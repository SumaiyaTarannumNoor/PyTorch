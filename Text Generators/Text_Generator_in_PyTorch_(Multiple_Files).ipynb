{
  "cells": [
    {
      "cell_type": "code",
      "execution_count": null,
      "metadata": {
        "id": "5UOMpNQtBZYf"
      },
      "outputs": [],
      "source": [
        "import torch\n",
        "import torch.nn as nn\n",
        "import numpy as np\n",
        "from torch.utils.data import TensorDataset, DataLoader"
      ]
    },
    {
      "cell_type": "code",
      "execution_count": null,
      "metadata": {
        "id": "Wy4h6aGqyaso"
      },
      "outputs": [],
      "source": [
        "with open('quote.txt', 'r', encoding='utf-8') as f:\n",
        "    txt_content = f.read()"
      ]
    },
    {
      "cell_type": "code",
      "execution_count": null,
      "metadata": {
        "colab": {
          "base_uri": "https://localhost:8080/"
        },
        "id": "N7PrdnPnyg6Q",
        "outputId": "041e0f0a-596e-43ba-e24c-a5aa9230107b"
      },
      "outputs": [
        {
          "output_type": "stream",
          "name": "stdout",
          "text": [
            "Collecting PyPDF2\n",
            "  Downloading pypdf2-3.0.1-py3-none-any.whl.metadata (6.8 kB)\n",
            "Downloading pypdf2-3.0.1-py3-none-any.whl (232 kB)\n",
            "\u001b[?25l   \u001b[90m━━━━━━━━━━━━━━━━━━━━━━━━━━━━━━━━━━━━━━━━\u001b[0m \u001b[32m0.0/232.6 kB\u001b[0m \u001b[31m?\u001b[0m eta \u001b[36m-:--:--\u001b[0m\r\u001b[2K   \u001b[91m━━━━━━━━━━━━━━━━━━━━━━━━━━━━━━━━━━━━━━\u001b[0m\u001b[91m╸\u001b[0m\u001b[90m━\u001b[0m \u001b[32m225.3/232.6 kB\u001b[0m \u001b[31m9.3 MB/s\u001b[0m eta \u001b[36m0:00:01\u001b[0m\r\u001b[2K   \u001b[90m━━━━━━━━━━━━━━━━━━━━━━━━━━━━━━━━━━━━━━━━\u001b[0m \u001b[32m232.6/232.6 kB\u001b[0m \u001b[31m6.3 MB/s\u001b[0m eta \u001b[36m0:00:00\u001b[0m\n",
            "\u001b[?25hInstalling collected packages: PyPDF2\n",
            "Successfully installed PyPDF2-3.0.1\n",
            "Collecting python-docx\n",
            "  Downloading python_docx-1.2.0-py3-none-any.whl.metadata (2.0 kB)\n",
            "Requirement already satisfied: lxml>=3.1.0 in /usr/local/lib/python3.11/dist-packages (from python-docx) (5.4.0)\n",
            "Requirement already satisfied: typing_extensions>=4.9.0 in /usr/local/lib/python3.11/dist-packages (from python-docx) (4.14.0)\n",
            "Downloading python_docx-1.2.0-py3-none-any.whl (252 kB)\n",
            "\u001b[2K   \u001b[90m━━━━━━━━━━━━━━━━━━━━━━━━━━━━━━━━━━━━━━━━\u001b[0m \u001b[32m253.0/253.0 kB\u001b[0m \u001b[31m6.8 MB/s\u001b[0m eta \u001b[36m0:00:00\u001b[0m\n",
            "\u001b[?25hInstalling collected packages: python-docx\n",
            "Successfully installed python-docx-1.2.0\n"
          ]
        }
      ],
      "source": [
        "! pip install PyPDF2\n",
        "! pip install python-docx"
      ]
    },
    {
      "cell_type": "code",
      "execution_count": null,
      "metadata": {
        "id": "BulNlUMNywXZ"
      },
      "outputs": [],
      "source": [
        "# import PyPDF2\n",
        "# from math import ceil\n",
        "\n",
        "# pdf_content = \"\"\n",
        "# with open('Pride_and_Prejudice.pdf', 'rb') as f:\n",
        "#     reader = PyPDF2.PdfReader(f)\n",
        "#     total_pages = len(reader.pages)\n",
        "#     partial_pages = ceil(total_pages // 64)  # 1/16th of the total pages\n",
        "\n",
        "#     for i in range(partial_pages):\n",
        "#         text = reader.pages[i].extract_text()\n",
        "#         if text:\n",
        "#             pdf_content += text\n"
      ]
    },
    {
      "cell_type": "code",
      "execution_count": null,
      "metadata": {
        "id": "9CMUW2u2yqCY"
      },
      "outputs": [],
      "source": [
        "# import docx\n",
        "\n",
        "# def read_docx(filename):\n",
        "#     doc = docx.Document(filename)\n",
        "#     return \"\\n\".join([para.text for para in doc.paragraphs])\n",
        "\n",
        "# docx_content = read_docx('Sasuke.docx')"
      ]
    },
    {
      "cell_type": "code",
      "execution_count": null,
      "metadata": {
        "id": "n4p5XvpXy0fP"
      },
      "outputs": [],
      "source": [
        "# text = pdf_content\n",
        "text = txt_content"
      ]
    },
    {
      "cell_type": "code",
      "execution_count": null,
      "metadata": {
        "id": "7M6NDzxSF8TT"
      },
      "outputs": [],
      "source": [
        "chars = sorted(list(set(text)))  # Extract unique characters from the text\n",
        "char_to_index = {char: i for i, char in enumerate(chars)}  # Map characters to indices\n",
        "index_to_char = {i: char for i, char in enumerate(chars)}"
      ]
    },
    {
      "cell_type": "code",
      "execution_count": null,
      "metadata": {
        "id": "tDbPLtA_Gkk9"
      },
      "outputs": [],
      "source": [
        "seq_length = 3\n",
        "sequences = []\n",
        "labels = []"
      ]
    },
    {
      "cell_type": "code",
      "execution_count": null,
      "metadata": {
        "id": "tM-EqeEiGwCK"
      },
      "outputs": [],
      "source": [
        "for i in range(len(text) - seq_length):\n",
        "    seq = text[i:i + seq_length]  # Sequence of characters\n",
        "    label = text[i + seq_length]  # The next character after the sequence\n",
        "    sequences.append([char_to_index[char] for char in seq])  # Convert each char to its index\n",
        "    labels.append(char_to_index[label])  # Convert the label char to its index"
      ]
    },
    {
      "cell_type": "code",
      "execution_count": null,
      "metadata": {
        "id": "exT8wtRMHK-p"
      },
      "outputs": [],
      "source": [
        "x = np.array(sequences)\n",
        "y = np.array(labels)"
      ]
    },
    {
      "cell_type": "code",
      "execution_count": null,
      "metadata": {
        "id": "Ip-dJ1uJHTmR"
      },
      "outputs": [],
      "source": [
        "x_tensor = torch.from_numpy(x)\n",
        "y_tensor = torch.from_numpy(y)"
      ]
    },
    {
      "cell_type": "code",
      "execution_count": null,
      "metadata": {
        "id": "1BZ2RMDaHdTN"
      },
      "outputs": [],
      "source": [
        "x_one_hot = torch.nn.functional.one_hot(x_tensor, num_classes = len(chars)).float()"
      ]
    },
    {
      "cell_type": "code",
      "execution_count": null,
      "metadata": {
        "id": "tADRyEGFH4O8"
      },
      "outputs": [],
      "source": [
        "dataset = TensorDataset(x_one_hot, y_tensor)\n",
        "batch_size = 1\n",
        "dataloader = DataLoader(dataset, batch_size=batch_size, shuffle=True)"
      ]
    },
    {
      "cell_type": "code",
      "execution_count": null,
      "metadata": {
        "id": "lp2ZQEBhIP5T"
      },
      "outputs": [],
      "source": [
        "class CharLSTM(nn.Module):\n",
        "  def __init__(self, input_size, hidden_size, num_layers, num_classes):\n",
        "     super(CharLSTM, self).__init__()\n",
        "     self.lstm = nn.LSTM(input_size, hidden_size, num_layers, batch_first=True)\n",
        "     self.fc = nn.Linear(hidden_size, num_classes)\n",
        "  def forward(self, x):\n",
        "     out, _ = self.lstm(x)\n",
        "     out = out[:, -1, :]\n",
        "     out = self.fc(out)\n",
        "     return out\n"
      ]
    },
    {
      "cell_type": "code",
      "execution_count": null,
      "metadata": {
        "id": "QZlp1DI5JT0h"
      },
      "outputs": [],
      "source": [
        "input_size = len(chars)\n",
        "hidden_size = 160\n",
        "num_layers = 6\n",
        "num_classes = len(chars)\n",
        "num_epochs = 200\n",
        "learning_rate = 0.001"
      ]
    },
    {
      "cell_type": "code",
      "execution_count": null,
      "metadata": {
        "id": "u9VWMH2vKlzE"
      },
      "outputs": [],
      "source": [
        "model = CharLSTM(input_size, hidden_size, num_layers, num_classes)\n",
        "optimizer = torch.optim.Adam(model.parameters(), lr=learning_rate)\n",
        "criterion = nn.CrossEntropyLoss()"
      ]
    },
    {
      "cell_type": "code",
      "execution_count": null,
      "metadata": {
        "id": "E7UBJVx4K7u5",
        "colab": {
          "base_uri": "https://localhost:8080/"
        },
        "outputId": "a3398f15-2be1-4b44-dc18-c372b70b0027"
      },
      "outputs": [
        {
          "output_type": "stream",
          "name": "stdout",
          "text": [
            "Epoch 1/200, Loss:  3.3298\n",
            "Epoch 2/200, Loss:  3.2619\n",
            "Epoch 3/200, Loss:  3.2003\n",
            "Epoch 4/200, Loss:  3.1081\n",
            "Epoch 5/200, Loss:  2.9668\n",
            "Epoch 6/200, Loss:  2.8504\n",
            "Epoch 7/200, Loss:  2.7658\n",
            "Epoch 8/200, Loss:  2.6710\n",
            "Epoch 9/200, Loss:  2.5901\n",
            "Epoch 10/200, Loss:  2.5412\n",
            "Epoch 11/200, Loss:  2.4706\n",
            "Epoch 12/200, Loss:  2.4258\n",
            "Epoch 13/200, Loss:  2.3728\n",
            "Epoch 14/200, Loss:  2.3351\n",
            "Epoch 15/200, Loss:  2.2730\n",
            "Epoch 16/200, Loss:  2.2231\n",
            "Epoch 17/200, Loss:  2.1763\n",
            "Epoch 18/200, Loss:  2.1445\n",
            "Epoch 19/200, Loss:  2.0883\n",
            "Epoch 20/200, Loss:  2.0701\n",
            "Epoch 21/200, Loss:  2.0145\n",
            "Epoch 22/200, Loss:  1.9728\n",
            "Epoch 23/200, Loss:  1.9291\n",
            "Epoch 24/200, Loss:  1.9065\n",
            "Epoch 25/200, Loss:  1.8525\n",
            "Epoch 26/200, Loss:  1.8255\n",
            "Epoch 27/200, Loss:  1.8027\n",
            "Epoch 28/200, Loss:  1.7505\n",
            "Epoch 29/200, Loss:  1.7274\n",
            "Epoch 30/200, Loss:  1.7098\n",
            "Epoch 31/200, Loss:  1.6732\n",
            "Epoch 32/200, Loss:  1.6313\n",
            "Epoch 33/200, Loss:  1.6120\n",
            "Epoch 34/200, Loss:  1.5998\n",
            "Epoch 35/200, Loss:  1.5676\n",
            "Epoch 36/200, Loss:  1.5429\n",
            "Epoch 37/200, Loss:  1.5113\n",
            "Epoch 38/200, Loss:  1.4898\n",
            "Epoch 39/200, Loss:  1.4776\n",
            "Epoch 40/200, Loss:  1.4367\n",
            "Epoch 41/200, Loss:  1.4442\n",
            "Epoch 42/200, Loss:  1.3946\n",
            "Epoch 43/200, Loss:  1.3791\n",
            "Epoch 44/200, Loss:  1.3597\n",
            "Epoch 45/200, Loss:  1.3431\n",
            "Epoch 46/200, Loss:  1.3276\n",
            "Epoch 47/200, Loss:  1.3121\n",
            "Epoch 48/200, Loss:  1.2831\n",
            "Epoch 49/200, Loss:  1.2809\n",
            "Epoch 50/200, Loss:  1.2801\n",
            "Epoch 51/200, Loss:  1.2342\n",
            "Epoch 52/200, Loss:  1.2109\n",
            "Epoch 53/200, Loss:  1.2184\n",
            "Epoch 54/200, Loss:  1.2027\n",
            "Epoch 55/200, Loss:  1.2120\n",
            "Epoch 56/200, Loss:  1.1768\n",
            "Epoch 57/200, Loss:  1.1716\n",
            "Epoch 58/200, Loss:  1.1468\n",
            "Epoch 59/200, Loss:  1.1498\n",
            "Epoch 60/200, Loss:  1.1159\n",
            "Epoch 61/200, Loss:  1.1227\n",
            "Epoch 62/200, Loss:  1.0988\n",
            "Epoch 63/200, Loss:  1.1134\n",
            "Epoch 64/200, Loss:  1.0714\n",
            "Epoch 65/200, Loss:  1.0870\n",
            "Epoch 66/200, Loss:  1.0580\n",
            "Epoch 67/200, Loss:  1.0620\n",
            "Epoch 68/200, Loss:  1.0382\n",
            "Epoch 69/200, Loss:  1.0290\n",
            "Epoch 70/200, Loss:  1.0291\n",
            "Epoch 71/200, Loss:  1.0595\n",
            "Epoch 72/200, Loss:  1.0343\n",
            "Epoch 73/200, Loss:  0.9799\n",
            "Epoch 74/200, Loss:  0.9878\n",
            "Epoch 75/200, Loss:  0.9710\n",
            "Epoch 76/200, Loss:  1.0722\n",
            "Epoch 77/200, Loss:  0.9721\n",
            "Epoch 78/200, Loss:  0.9838\n",
            "Epoch 79/200, Loss:  0.9494\n",
            "Epoch 80/200, Loss:  0.9553\n",
            "Epoch 81/200, Loss:  0.9405\n",
            "Epoch 82/200, Loss:  0.9360\n",
            "Epoch 83/200, Loss:  0.9405\n",
            "Epoch 84/200, Loss:  0.9284\n",
            "Epoch 85/200, Loss:  0.9126\n",
            "Epoch 86/200, Loss:  0.9346\n",
            "Epoch 87/200, Loss:  0.9280\n",
            "Epoch 88/200, Loss:  0.9049\n",
            "Epoch 89/200, Loss:  0.8956\n",
            "Epoch 90/200, Loss:  0.9040\n",
            "Epoch 91/200, Loss:  0.9080\n",
            "Epoch 92/200, Loss:  0.8969\n",
            "Epoch 93/200, Loss:  0.8971\n",
            "Epoch 94/200, Loss:  0.8520\n",
            "Epoch 95/200, Loss:  0.8855\n",
            "Epoch 96/200, Loss:  0.8625\n",
            "Epoch 97/200, Loss:  0.8929\n",
            "Epoch 98/200, Loss:  0.8747\n",
            "Epoch 99/200, Loss:  0.8664\n",
            "Epoch 100/200, Loss:  0.8820\n",
            "Epoch 101/200, Loss:  0.8508\n",
            "Epoch 102/200, Loss:  0.8491\n",
            "Epoch 103/200, Loss:  0.8624\n",
            "Epoch 104/200, Loss:  0.8530\n",
            "Epoch 105/200, Loss:  0.8685\n",
            "Epoch 106/200, Loss:  0.8407\n",
            "Epoch 107/200, Loss:  0.8072\n",
            "Epoch 108/200, Loss:  0.8329\n",
            "Epoch 109/200, Loss:  0.8429\n",
            "Epoch 110/200, Loss:  0.8268\n",
            "Epoch 111/200, Loss:  0.8221\n",
            "Epoch 112/200, Loss:  0.8241\n",
            "Epoch 113/200, Loss:  0.8259\n",
            "Epoch 114/200, Loss:  0.7893\n",
            "Epoch 115/200, Loss:  0.8025\n",
            "Epoch 116/200, Loss:  0.8028\n",
            "Epoch 117/200, Loss:  0.8132\n",
            "Epoch 118/200, Loss:  0.8222\n",
            "Epoch 119/200, Loss:  0.7829\n",
            "Epoch 120/200, Loss:  0.8003\n",
            "Epoch 121/200, Loss:  0.7902\n",
            "Epoch 122/200, Loss:  0.8108\n",
            "Epoch 123/200, Loss:  0.7922\n",
            "Epoch 124/200, Loss:  0.7676\n",
            "Epoch 125/200, Loss:  0.7979\n",
            "Epoch 126/200, Loss:  0.8350\n",
            "Epoch 127/200, Loss:  0.7670\n",
            "Epoch 128/200, Loss:  0.7841\n",
            "Epoch 129/200, Loss:  0.7752\n",
            "Epoch 130/200, Loss:  0.7894\n",
            "Epoch 131/200, Loss:  0.7784\n",
            "Epoch 132/200, Loss:  0.7530\n",
            "Epoch 133/200, Loss:  0.7670\n",
            "Epoch 134/200, Loss:  0.7567\n",
            "Epoch 135/200, Loss:  0.7682\n",
            "Epoch 136/200, Loss:  0.7500\n",
            "Epoch 137/200, Loss:  0.7795\n",
            "Epoch 138/200, Loss:  0.7430\n",
            "Epoch 139/200, Loss:  0.7710\n",
            "Epoch 140/200, Loss:  0.7543\n",
            "Epoch 141/200, Loss:  0.7569\n",
            "Epoch 142/200, Loss:  0.7606\n",
            "Epoch 143/200, Loss:  0.7296\n",
            "Epoch 144/200, Loss:  0.7249\n",
            "Epoch 145/200, Loss:  0.7390\n",
            "Epoch 146/200, Loss:  0.7605\n",
            "Epoch 147/200, Loss:  0.7120\n",
            "Epoch 148/200, Loss:  0.7356\n",
            "Epoch 149/200, Loss:  0.7347\n",
            "Epoch 150/200, Loss:  0.7192\n",
            "Epoch 151/200, Loss:  0.7276\n",
            "Epoch 152/200, Loss:  0.7278\n",
            "Epoch 153/200, Loss:  0.7165\n",
            "Epoch 154/200, Loss:  0.7081\n",
            "Epoch 155/200, Loss:  0.7236\n",
            "Epoch 156/200, Loss:  0.7128\n",
            "Epoch 157/200, Loss:  0.7209\n",
            "Epoch 158/200, Loss:  0.7209\n",
            "Epoch 159/200, Loss:  0.7117\n",
            "Epoch 160/200, Loss:  0.7511\n",
            "Epoch 161/200, Loss:  0.7554\n",
            "Epoch 162/200, Loss:  0.7230\n",
            "Epoch 163/200, Loss:  0.7046\n",
            "Epoch 164/200, Loss:  0.7115\n",
            "Epoch 165/200, Loss:  0.7310\n",
            "Epoch 166/200, Loss:  0.7093\n",
            "Epoch 167/200, Loss:  0.7090\n",
            "Epoch 168/200, Loss:  0.7045\n",
            "Epoch 169/200, Loss:  0.7026\n",
            "Epoch 170/200, Loss:  0.6934\n",
            "Epoch 171/200, Loss:  0.7087\n",
            "Epoch 172/200, Loss:  0.7192\n",
            "Epoch 173/200, Loss:  0.7003\n",
            "Epoch 174/200, Loss:  0.6908\n",
            "Epoch 175/200, Loss:  0.7052\n",
            "Epoch 176/200, Loss:  0.7207\n",
            "Epoch 177/200, Loss:  0.7031\n",
            "Epoch 178/200, Loss:  0.6947\n",
            "Epoch 179/200, Loss:  0.6998\n",
            "Epoch 180/200, Loss:  0.7200\n",
            "Epoch 181/200, Loss:  0.6598\n",
            "Epoch 182/200, Loss:  0.6770\n",
            "Epoch 183/200, Loss:  0.6692\n",
            "Epoch 184/200, Loss:  0.6823\n",
            "Epoch 185/200, Loss:  0.6966\n",
            "Epoch 186/200, Loss:  0.6852\n",
            "Epoch 187/200, Loss:  0.6682\n",
            "Epoch 188/200, Loss:  0.6888\n",
            "Epoch 189/200, Loss:  0.6690\n",
            "Epoch 190/200, Loss:  0.6746\n",
            "Epoch 191/200, Loss:  0.6708\n",
            "Epoch 192/200, Loss:  0.6655\n",
            "Epoch 193/200, Loss:  0.6685\n",
            "Epoch 194/200, Loss:  0.6952\n",
            "Epoch 195/200, Loss:  0.6762\n",
            "Epoch 196/200, Loss:  0.6981\n",
            "Epoch 197/200, Loss:  0.7077\n",
            "Epoch 198/200, Loss:  0.7334\n",
            "Epoch 199/200, Loss:  0.6957\n",
            "Epoch 200/200, Loss:  0.6664\n"
          ]
        }
      ],
      "source": [
        "for epoch in range(num_epochs):\n",
        "  total_loss = 0\n",
        "  for batch_x, batch_y in dataloader:\n",
        "    optimizer.zero_grad()\n",
        "    outputs = model(batch_x)\n",
        "    loss = criterion(outputs, batch_y)\n",
        "    loss.backward()\n",
        "    optimizer.step()\n",
        "    total_loss += loss.item()\n",
        "  avg_loss = total_loss/len(dataloader)\n",
        "  print(f\"Epoch {epoch+1}/{num_epochs}, Loss: {avg_loss: .4f}\")"
      ]
    },
    {
      "cell_type": "code",
      "execution_count": null,
      "metadata": {
        "id": "TOTsqFmeL6A1"
      },
      "outputs": [],
      "source": [
        "def generate_text(model, start_seq, length, char_to_index, index_to_char):\n",
        "  model.eval()\n",
        "  seq = [char_to_index[c] for c in start_seq]\n",
        "  generated = start_seq\n",
        "  for _ in range(length):\n",
        "    x = torch.tensor([seq[-seq_length:]])\n",
        "    x_onehot = torch.nn.functional.one_hot(x, num_classes=len(chars)).float()\n",
        "    with torch.no_grad():\n",
        "      out = model(x_onehot)\n",
        "      pred = out.argmax(dim=1).item()\n",
        "    generated += index_to_char[pred]\n",
        "    seq.append(pred)\n",
        "  return generated"
      ]
    },
    {
      "cell_type": "code",
      "execution_count": null,
      "metadata": {
        "id": "NLKTqfgl534D",
        "colab": {
          "base_uri": "https://localhost:8080/"
        },
        "outputId": "33f35a0a-3f41-4ca5-a809-d310fb362e37"
      },
      "outputs": [
        {
          "output_type": "stream",
          "name": "stdout",
          "text": [
            "Generated Text: \n",
            "Once and still as if you are to be may not live world be may not live world be may not live world be may\n"
          ]
        }
      ],
      "source": [
        "print(\"Generated Text: \")\n",
        "print(generate_text(model, \"Once\", 100, char_to_index, index_to_char))"
      ]
    },
    {
      "cell_type": "markdown",
      "metadata": {
        "id": "Mkofyvjh5i1_"
      },
      "source": [
        "# Exporting Model and Vocab"
      ]
    },
    {
      "cell_type": "code",
      "execution_count": null,
      "metadata": {
        "id": "xcQR3irVNY9v",
        "colab": {
          "base_uri": "https://localhost:8080/"
        },
        "outputId": "2614470e-e43c-4ff8-cfdf-fea31bf1a09d"
      },
      "outputs": [
        {
          "output_type": "stream",
          "name": "stdout",
          "text": [
            "✅ Model and mappings exported successfully.\n"
          ]
        }
      ],
      "source": [
        "import torch\n",
        "import pickle\n",
        "\n",
        "# Save model\n",
        "torch.save(model.state_dict(), \"text_generator_model.pth\")\n",
        "\n",
        "# Save vocab and mappings\n",
        "with open(\"vocab.pkl\", \"wb\") as f:\n",
        "    # Save the list of unique characters, which represents the vocabulary\n",
        "    pickle.dump(chars, f)\n",
        "\n",
        "with open(\"char_to_idx.pkl\", \"wb\") as f:\n",
        "    pickle.dump(char_to_index, f) # Changed char_to_idx to char_to_index\n",
        "\n",
        "with open(\"idx_to_char.pkl\", \"wb\") as f:\n",
        "    pickle.dump(index_to_char, f) # Changed idx_to_char to index_to_char\n",
        "\n",
        "print(\"✅ Model and mappings exported successfully.\")"
      ]
    },
    {
      "cell_type": "markdown",
      "metadata": {
        "id": "08VooC8H5noL"
      },
      "source": [
        "# Text Generation Function"
      ]
    },
    {
      "cell_type": "code",
      "execution_count": null,
      "metadata": {
        "id": "o99xHTvb5qlD"
      },
      "outputs": [],
      "source": [
        "torch.save(model.state_dict(), \"text_generator_model.pth\")\n",
        "with open(\"vocab.pkl\", \"wb\") as f:\n",
        "    pickle.dump(chars, f)\n",
        "with open(\"char_to_idx.pkl\", \"wb\") as f:\n",
        "    pickle.dump(char_to_index, f)\n",
        "with open(\"idx_to_char.pkl\", \"wb\") as f:\n",
        "    pickle.dump(index_to_char, f)"
      ]
    },
    {
      "cell_type": "markdown",
      "metadata": {
        "id": "yvbZwKy25v2K"
      },
      "source": [
        "# CLI Support"
      ]
    },
    {
      "cell_type": "code",
      "execution_count": null,
      "metadata": {
        "id": "pXeHlJUX5xbg",
        "colab": {
          "base_uri": "https://localhost:8080/"
        },
        "outputId": "2a36276d-dbc6-47fa-dbe6-3422242a0cba"
      },
      "outputs": [
        {
          "output_type": "stream",
          "name": "stdout",
          "text": [
            "Enter a blog title or starting text: love\n",
            "\n",
            "Generated Blog:\n",
            "\n",
            "love world be may not live world be may not live world be may not live world be may not live world be ma\n"
          ]
        }
      ],
      "source": [
        "if __name__ == \"__main__\":\n",
        "    prompt = input(\"Enter a blog title or starting text: \")\n",
        "    print(\"\\nGenerated Blog:\\n\")\n",
        "    # Call generate_text with all required arguments\n",
        "    print(generate_text(model, prompt, 100, char_to_index, index_to_char))"
      ]
    }
  ],
  "metadata": {
    "colab": {
      "provenance": []
    },
    "kernelspec": {
      "display_name": "Python 3",
      "name": "python3"
    },
    "language_info": {
      "name": "python"
    }
  },
  "nbformat": 4,
  "nbformat_minor": 0
}
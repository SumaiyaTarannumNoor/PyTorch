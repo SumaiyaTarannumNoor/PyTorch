{
  "nbformat": 4,
  "nbformat_minor": 0,
  "metadata": {
    "colab": {
      "provenance": []
    },
    "kernelspec": {
      "name": "python3",
      "display_name": "Python 3"
    },
    "language_info": {
      "name": "python"
    }
  },
  "cells": [
    {
      "cell_type": "code",
      "execution_count": null,
      "metadata": {
        "id": "TvzTfSHZDSnA"
      },
      "outputs": [],
      "source": []
    },
    {
      "cell_type": "code",
      "source": [
        "import torch\n",
        "import pandas as pd\n",
        "import numpy as np\n",
        "import matplotlib.pyplot as plt\n",
        "print(torch.__version__)"
      ],
      "metadata": {
        "colab": {
          "base_uri": "https://localhost:8080/"
        },
        "id": "vRo9Y01sZ-bm",
        "outputId": "2e6dce7a-6598-4d85-9ac4-44f1f96ccf8d"
      },
      "execution_count": 1,
      "outputs": [
        {
          "output_type": "stream",
          "name": "stdout",
          "text": [
            "2.8.0+cu126\n"
          ]
        }
      ]
    },
    {
      "cell_type": "markdown",
      "source": [
        "### Introduction To Tensors\n",
        "#### Creating Tensors"
      ],
      "metadata": {
        "id": "Q6ezh9f-a89k"
      }
    },
    {
      "cell_type": "code",
      "source": [
        "# scaler\n",
        "scalar = torch.tensor(16)\n",
        "scalar"
      ],
      "metadata": {
        "colab": {
          "base_uri": "https://localhost:8080/"
        },
        "id": "SW9C3lv2aK4r",
        "outputId": "01eb1e0f-b15f-47dd-96f3-00aa4be57ab6"
      },
      "execution_count": 2,
      "outputs": [
        {
          "output_type": "execute_result",
          "data": {
            "text/plain": [
              "tensor(16)"
            ]
          },
          "metadata": {},
          "execution_count": 2
        }
      ]
    },
    {
      "cell_type": "code",
      "source": [
        "scalar.ndim"
      ],
      "metadata": {
        "colab": {
          "base_uri": "https://localhost:8080/"
        },
        "id": "23XgE3vTbTI8",
        "outputId": "c07f2fa5-7735-42f8-b649-4ea22a4077d7"
      },
      "execution_count": 3,
      "outputs": [
        {
          "output_type": "execute_result",
          "data": {
            "text/plain": [
              "0"
            ]
          },
          "metadata": {},
          "execution_count": 3
        }
      ]
    },
    {
      "cell_type": "code",
      "source": [
        "scalar.item()"
      ],
      "metadata": {
        "colab": {
          "base_uri": "https://localhost:8080/"
        },
        "id": "pAVCbO6Nbc3J",
        "outputId": "5fbffdad-ffbb-4ca6-c6d5-7445c542f553"
      },
      "execution_count": 4,
      "outputs": [
        {
          "output_type": "execute_result",
          "data": {
            "text/plain": [
              "16"
            ]
          },
          "metadata": {},
          "execution_count": 4
        }
      ]
    },
    {
      "cell_type": "code",
      "source": [
        "# Vector\n",
        "vector = torch.tensor([16, 16])\n",
        "vector"
      ],
      "metadata": {
        "colab": {
          "base_uri": "https://localhost:8080/"
        },
        "id": "cR08P39ybrEM",
        "outputId": "df9586bb-259b-4e4d-bc45-04e55bd5be21"
      },
      "execution_count": 5,
      "outputs": [
        {
          "output_type": "execute_result",
          "data": {
            "text/plain": [
              "tensor([16, 16])"
            ]
          },
          "metadata": {},
          "execution_count": 5
        }
      ]
    },
    {
      "cell_type": "code",
      "source": [
        "vector.ndim"
      ],
      "metadata": {
        "colab": {
          "base_uri": "https://localhost:8080/"
        },
        "id": "-3jbyA93cj5B",
        "outputId": "daf28a46-fc7b-471b-e2e1-f92ef558f956"
      },
      "execution_count": 6,
      "outputs": [
        {
          "output_type": "execute_result",
          "data": {
            "text/plain": [
              "1"
            ]
          },
          "metadata": {},
          "execution_count": 6
        }
      ]
    },
    {
      "cell_type": "code",
      "source": [
        "vector.shape"
      ],
      "metadata": {
        "colab": {
          "base_uri": "https://localhost:8080/"
        },
        "id": "mccFaCgmczCa",
        "outputId": "1614c1c4-041f-41ce-859d-e992bbee53f8"
      },
      "execution_count": 7,
      "outputs": [
        {
          "output_type": "execute_result",
          "data": {
            "text/plain": [
              "torch.Size([2])"
            ]
          },
          "metadata": {},
          "execution_count": 7
        }
      ]
    },
    {
      "cell_type": "code",
      "source": [
        " # MATRIX\n",
        " MATRIX = torch.tensor([[7, 8],\n",
        "                        [9, 10]])\n",
        " MATRIX"
      ],
      "metadata": {
        "colab": {
          "base_uri": "https://localhost:8080/"
        },
        "id": "90zVLbGrc11L",
        "outputId": "8fd55a36-e4f6-4a94-d5f7-5eca79c7f777"
      },
      "execution_count": 8,
      "outputs": [
        {
          "output_type": "execute_result",
          "data": {
            "text/plain": [
              "tensor([[ 7,  8],\n",
              "        [ 9, 10]])"
            ]
          },
          "metadata": {},
          "execution_count": 8
        }
      ]
    },
    {
      "cell_type": "code",
      "source": [
        "MATRIX.ndim"
      ],
      "metadata": {
        "colab": {
          "base_uri": "https://localhost:8080/"
        },
        "id": "ppYQm7BPdy55",
        "outputId": "de6a4ddd-5e79-4db4-d5a0-7d5d4eadd7f8"
      },
      "execution_count": 9,
      "outputs": [
        {
          "output_type": "execute_result",
          "data": {
            "text/plain": [
              "2"
            ]
          },
          "metadata": {},
          "execution_count": 9
        }
      ]
    },
    {
      "cell_type": "code",
      "source": [
        "MATRIX[1]"
      ],
      "metadata": {
        "colab": {
          "base_uri": "https://localhost:8080/"
        },
        "id": "teHxnfaBeUh6",
        "outputId": "e769334f-c54b-4e01-f83e-e3fdc453a116"
      },
      "execution_count": 10,
      "outputs": [
        {
          "output_type": "execute_result",
          "data": {
            "text/plain": [
              "tensor([ 9, 10])"
            ]
          },
          "metadata": {},
          "execution_count": 10
        }
      ]
    },
    {
      "cell_type": "code",
      "source": [
        "MATRIX[0]"
      ],
      "metadata": {
        "colab": {
          "base_uri": "https://localhost:8080/"
        },
        "id": "l-viVy2IeXo6",
        "outputId": "91bec750-acf4-4b17-8506-85ca520db6c0"
      },
      "execution_count": 11,
      "outputs": [
        {
          "output_type": "execute_result",
          "data": {
            "text/plain": [
              "tensor([7, 8])"
            ]
          },
          "metadata": {},
          "execution_count": 11
        }
      ]
    },
    {
      "cell_type": "code",
      "source": [
        "MATRIX.shape"
      ],
      "metadata": {
        "colab": {
          "base_uri": "https://localhost:8080/"
        },
        "id": "v64O7WUIeaiL",
        "outputId": "b414e027-629d-45ca-8122-c0f21b267201"
      },
      "execution_count": 12,
      "outputs": [
        {
          "output_type": "execute_result",
          "data": {
            "text/plain": [
              "torch.Size([2, 2])"
            ]
          },
          "metadata": {},
          "execution_count": 12
        }
      ]
    },
    {
      "cell_type": "code",
      "source": [
        "# TENSOR\n",
        "TENSOR = torch.tensor([[[1, 2, 3],\n",
        "                        [4, 5, 6],\n",
        "                        [7, 8, 9]]])\n",
        "TENSOR"
      ],
      "metadata": {
        "colab": {
          "base_uri": "https://localhost:8080/"
        },
        "id": "JV0jam1Seb5J",
        "outputId": "c7cd4e51-c2b1-492d-c410-d3845012e811"
      },
      "execution_count": 13,
      "outputs": [
        {
          "output_type": "execute_result",
          "data": {
            "text/plain": [
              "tensor([[[1, 2, 3],\n",
              "         [4, 5, 6],\n",
              "         [7, 8, 9]]])"
            ]
          },
          "metadata": {},
          "execution_count": 13
        }
      ]
    },
    {
      "cell_type": "code",
      "source": [
        "TENSOR.ndim"
      ],
      "metadata": {
        "colab": {
          "base_uri": "https://localhost:8080/"
        },
        "id": "22wT2-rdema5",
        "outputId": "f9eaaade-76b7-4f6e-c8fc-050fcbfa938b"
      },
      "execution_count": 14,
      "outputs": [
        {
          "output_type": "execute_result",
          "data": {
            "text/plain": [
              "3"
            ]
          },
          "metadata": {},
          "execution_count": 14
        }
      ]
    },
    {
      "cell_type": "code",
      "source": [
        "TENSOR.shape"
      ],
      "metadata": {
        "colab": {
          "base_uri": "https://localhost:8080/"
        },
        "id": "it9OuMpcfAKV",
        "outputId": "b3a3271c-0f77-43ee-ef5a-d9584eab4004"
      },
      "execution_count": 15,
      "outputs": [
        {
          "output_type": "execute_result",
          "data": {
            "text/plain": [
              "torch.Size([1, 3, 3])"
            ]
          },
          "metadata": {},
          "execution_count": 15
        }
      ]
    },
    {
      "cell_type": "code",
      "source": [
        "TENSOR[0]"
      ],
      "metadata": {
        "colab": {
          "base_uri": "https://localhost:8080/"
        },
        "id": "mhyif_iEfCiE",
        "outputId": "bebabfeb-a02e-42ee-854a-7a2cefc05b37"
      },
      "execution_count": 16,
      "outputs": [
        {
          "output_type": "execute_result",
          "data": {
            "text/plain": [
              "tensor([[1, 2, 3],\n",
              "        [4, 5, 6],\n",
              "        [7, 8, 9]])"
            ]
          },
          "metadata": {},
          "execution_count": 16
        }
      ]
    },
    {
      "cell_type": "code",
      "source": [
        "TENSOR2 = torch.tensor ([[[[[[1, 2, 3],\n",
        "               [4, 5, 6],\n",
        "               [7, 8, 9],\n",
        "               [10, 11, 12]]]]]])\n",
        "TENSOR2"
      ],
      "metadata": {
        "colab": {
          "base_uri": "https://localhost:8080/"
        },
        "id": "_l5g0u-TfJBv",
        "outputId": "619880f6-0e93-494e-bdb3-28558c533ba2"
      },
      "execution_count": 17,
      "outputs": [
        {
          "output_type": "execute_result",
          "data": {
            "text/plain": [
              "tensor([[[[[[ 1,  2,  3],\n",
              "            [ 4,  5,  6],\n",
              "            [ 7,  8,  9],\n",
              "            [10, 11, 12]]]]]])"
            ]
          },
          "metadata": {},
          "execution_count": 17
        }
      ]
    },
    {
      "cell_type": "markdown",
      "source": [],
      "metadata": {
        "id": "hnz-JIFhf7T7"
      }
    },
    {
      "cell_type": "code",
      "source": [
        "TENSOR2.ndim"
      ],
      "metadata": {
        "colab": {
          "base_uri": "https://localhost:8080/"
        },
        "id": "aIvdA5o1fdRL",
        "outputId": "b2a04c0b-1172-4a68-d3b9-b9c43eb08771"
      },
      "execution_count": 18,
      "outputs": [
        {
          "output_type": "execute_result",
          "data": {
            "text/plain": [
              "6"
            ]
          },
          "metadata": {},
          "execution_count": 18
        }
      ]
    },
    {
      "cell_type": "code",
      "source": [
        "TENSOR2.shape"
      ],
      "metadata": {
        "colab": {
          "base_uri": "https://localhost:8080/"
        },
        "id": "NMAk4cU2fsiv",
        "outputId": "472ff7da-dd2a-4786-88a8-69b12a05e4f9"
      },
      "execution_count": 19,
      "outputs": [
        {
          "output_type": "execute_result",
          "data": {
            "text/plain": [
              "torch.Size([1, 1, 1, 1, 4, 3])"
            ]
          },
          "metadata": {},
          "execution_count": 19
        }
      ]
    },
    {
      "cell_type": "code",
      "source": [
        "TENSOR2[0]"
      ],
      "metadata": {
        "colab": {
          "base_uri": "https://localhost:8080/"
        },
        "id": "_otbPbWpfzCp",
        "outputId": "acc684db-0207-4b69-e0f3-0465d86e5eef"
      },
      "execution_count": 20,
      "outputs": [
        {
          "output_type": "execute_result",
          "data": {
            "text/plain": [
              "tensor([[[[[ 1,  2,  3],\n",
              "           [ 4,  5,  6],\n",
              "           [ 7,  8,  9],\n",
              "           [10, 11, 12]]]]])"
            ]
          },
          "metadata": {},
          "execution_count": 20
        }
      ]
    },
    {
      "cell_type": "code",
      "source": [
        "TENSOR3 = torch.tensor ([[[[[[1, 2, 3],\n",
        "               [4, 5, 6],\n",
        "               [7, 8, 9],\n",
        "               [10, 11, 12]],\n",
        "               [[13, 14, 15],\n",
        "                [16, 17, 18],\n",
        "                [19, 20, 21],\n",
        "                [22,23, 24]]]]]])\n",
        "TENSOR3"
      ],
      "metadata": {
        "colab": {
          "base_uri": "https://localhost:8080/"
        },
        "id": "MuiTurohf5Z3",
        "outputId": "d0c3f265-57a4-47d5-923e-f531f35e9a9a"
      },
      "execution_count": 21,
      "outputs": [
        {
          "output_type": "execute_result",
          "data": {
            "text/plain": [
              "tensor([[[[[[ 1,  2,  3],\n",
              "            [ 4,  5,  6],\n",
              "            [ 7,  8,  9],\n",
              "            [10, 11, 12]],\n",
              "\n",
              "           [[13, 14, 15],\n",
              "            [16, 17, 18],\n",
              "            [19, 20, 21],\n",
              "            [22, 23, 24]]]]]])"
            ]
          },
          "metadata": {},
          "execution_count": 21
        }
      ]
    },
    {
      "cell_type": "code",
      "source": [
        "TENSOR3.ndim"
      ],
      "metadata": {
        "colab": {
          "base_uri": "https://localhost:8080/"
        },
        "id": "va_uWXSpgSmg",
        "outputId": "c20dafdc-b65e-49c9-fcf1-3f846c6e5214"
      },
      "execution_count": 22,
      "outputs": [
        {
          "output_type": "execute_result",
          "data": {
            "text/plain": [
              "6"
            ]
          },
          "metadata": {},
          "execution_count": 22
        }
      ]
    },
    {
      "cell_type": "code",
      "source": [
        "TENSOR.shape"
      ],
      "metadata": {
        "colab": {
          "base_uri": "https://localhost:8080/"
        },
        "id": "t7Fgqr_SgfDH",
        "outputId": "2294d24e-328d-4998-fa80-1ba2e3326a8c"
      },
      "execution_count": 23,
      "outputs": [
        {
          "output_type": "execute_result",
          "data": {
            "text/plain": [
              "torch.Size([1, 3, 3])"
            ]
          },
          "metadata": {},
          "execution_count": 23
        }
      ]
    },
    {
      "cell_type": "code",
      "source": [
        "TENSOR3[0]"
      ],
      "metadata": {
        "colab": {
          "base_uri": "https://localhost:8080/"
        },
        "id": "vdI_7oPkgglL",
        "outputId": "be8f0642-2d67-4b52-9e93-2fe97bd54ed2"
      },
      "execution_count": 24,
      "outputs": [
        {
          "output_type": "execute_result",
          "data": {
            "text/plain": [
              "tensor([[[[[ 1,  2,  3],\n",
              "           [ 4,  5,  6],\n",
              "           [ 7,  8,  9],\n",
              "           [10, 11, 12]],\n",
              "\n",
              "          [[13, 14, 15],\n",
              "           [16, 17, 18],\n",
              "           [19, 20, 21],\n",
              "           [22, 23, 24]]]]])"
            ]
          },
          "metadata": {},
          "execution_count": 24
        }
      ]
    },
    {
      "cell_type": "code",
      "source": [
        "TENSOR4 = torch.tensor ([[[[[[1, 2, 3],\n",
        "               [4, 5, 6],\n",
        "               [7, 8, 9],\n",
        "               [10, 11, 12]],\n",
        "               [[13, 14, 15],\n",
        "                [16, 17, 18],\n",
        "                [19, 20, 21],\n",
        "                [22,23, 24]],\n",
        "                [[31,32, 33],\n",
        "               [34, 35, 36],\n",
        "               [37, 38, 39],\n",
        "               [103, 113, 123]],\n",
        "               [[136, 146, 156],\n",
        "                [166, 176, 186],\n",
        "                [196, 206, 216],\n",
        "                [226,236, 246]]]]]])\n",
        "TENSOR4"
      ],
      "metadata": {
        "colab": {
          "base_uri": "https://localhost:8080/"
        },
        "id": "Wjl4CulzgyMX",
        "outputId": "5b2058f9-dd6c-48ea-e1d4-0d710d2a0d2a"
      },
      "execution_count": 25,
      "outputs": [
        {
          "output_type": "execute_result",
          "data": {
            "text/plain": [
              "tensor([[[[[[  1,   2,   3],\n",
              "            [  4,   5,   6],\n",
              "            [  7,   8,   9],\n",
              "            [ 10,  11,  12]],\n",
              "\n",
              "           [[ 13,  14,  15],\n",
              "            [ 16,  17,  18],\n",
              "            [ 19,  20,  21],\n",
              "            [ 22,  23,  24]],\n",
              "\n",
              "           [[ 31,  32,  33],\n",
              "            [ 34,  35,  36],\n",
              "            [ 37,  38,  39],\n",
              "            [103, 113, 123]],\n",
              "\n",
              "           [[136, 146, 156],\n",
              "            [166, 176, 186],\n",
              "            [196, 206, 216],\n",
              "            [226, 236, 246]]]]]])"
            ]
          },
          "metadata": {},
          "execution_count": 25
        }
      ]
    },
    {
      "cell_type": "code",
      "source": [
        "TENSOR4.ndim"
      ],
      "metadata": {
        "colab": {
          "base_uri": "https://localhost:8080/"
        },
        "id": "JyCpHslniAWQ",
        "outputId": "a95c3256-449b-4800-bf67-acf62a59d17f"
      },
      "execution_count": 26,
      "outputs": [
        {
          "output_type": "execute_result",
          "data": {
            "text/plain": [
              "6"
            ]
          },
          "metadata": {},
          "execution_count": 26
        }
      ]
    },
    {
      "cell_type": "code",
      "source": [
        "TENSOR4.shape"
      ],
      "metadata": {
        "colab": {
          "base_uri": "https://localhost:8080/"
        },
        "id": "5MsWY4w2iDre",
        "outputId": "b721d434-1d32-401d-fa3c-847fb2d3e0b9"
      },
      "execution_count": 27,
      "outputs": [
        {
          "output_type": "execute_result",
          "data": {
            "text/plain": [
              "torch.Size([1, 1, 1, 4, 4, 3])"
            ]
          },
          "metadata": {},
          "execution_count": 27
        }
      ]
    },
    {
      "cell_type": "code",
      "source": [
        "TENSOR4[0]"
      ],
      "metadata": {
        "colab": {
          "base_uri": "https://localhost:8080/"
        },
        "id": "bVpOJmYciHA6",
        "outputId": "7221744c-0bb9-4b23-9813-ac41ba78c92d"
      },
      "execution_count": 28,
      "outputs": [
        {
          "output_type": "execute_result",
          "data": {
            "text/plain": [
              "tensor([[[[[  1,   2,   3],\n",
              "           [  4,   5,   6],\n",
              "           [  7,   8,   9],\n",
              "           [ 10,  11,  12]],\n",
              "\n",
              "          [[ 13,  14,  15],\n",
              "           [ 16,  17,  18],\n",
              "           [ 19,  20,  21],\n",
              "           [ 22,  23,  24]],\n",
              "\n",
              "          [[ 31,  32,  33],\n",
              "           [ 34,  35,  36],\n",
              "           [ 37,  38,  39],\n",
              "           [103, 113, 123]],\n",
              "\n",
              "          [[136, 146, 156],\n",
              "           [166, 176, 186],\n",
              "           [196, 206, 216],\n",
              "           [226, 236, 246]]]]])"
            ]
          },
          "metadata": {},
          "execution_count": 28
        }
      ]
    },
    {
      "cell_type": "code",
      "source": [
        "TENSOR5 = torch.tensor ([[[[[[1, 2, 3],\n",
        "               [4, 5, 6],\n",
        "               [7, 8, 9],\n",
        "               [10, 11, 12]],\n",
        "               [[13, 14, 15],\n",
        "                [16, 17, 18],\n",
        "                [19, 20, 21],\n",
        "                [22,23, 24]],\n",
        "                [[31,32, 33],\n",
        "               [34, 35, 36],\n",
        "               [37, 38, 39],\n",
        "               [103, 113, 123]],\n",
        "               [[136, 146, 156],\n",
        "                [166, 176, 186],\n",
        "                [196, 206, 216],\n",
        "                [226,236, 246]],\n",
        "                [[1, 2, 3],\n",
        "               [4, 5, 6],\n",
        "               [7, 8, 9],\n",
        "               [10, 11, 12]],\n",
        "               [[13, 14, 15],\n",
        "                [16, 17, 18],\n",
        "                [19, 20, 21],\n",
        "                [22,23, 24]],\n",
        "                [[31,32, 33],\n",
        "               [34, 35, 36],\n",
        "               [37, 38, 39],\n",
        "               [103, 113, 123]],\n",
        "               [[136, 146, 156],\n",
        "                [166, 176, 186],\n",
        "                [196, 206, 216],\n",
        "                [226,236, 246]]]]]])\n",
        "TENSOR5"
      ],
      "metadata": {
        "colab": {
          "base_uri": "https://localhost:8080/"
        },
        "id": "p5AdtAfiiLsE",
        "outputId": "34cce620-01ab-423f-ea2d-811bbc468ce6"
      },
      "execution_count": 29,
      "outputs": [
        {
          "output_type": "execute_result",
          "data": {
            "text/plain": [
              "tensor([[[[[[  1,   2,   3],\n",
              "            [  4,   5,   6],\n",
              "            [  7,   8,   9],\n",
              "            [ 10,  11,  12]],\n",
              "\n",
              "           [[ 13,  14,  15],\n",
              "            [ 16,  17,  18],\n",
              "            [ 19,  20,  21],\n",
              "            [ 22,  23,  24]],\n",
              "\n",
              "           [[ 31,  32,  33],\n",
              "            [ 34,  35,  36],\n",
              "            [ 37,  38,  39],\n",
              "            [103, 113, 123]],\n",
              "\n",
              "           [[136, 146, 156],\n",
              "            [166, 176, 186],\n",
              "            [196, 206, 216],\n",
              "            [226, 236, 246]],\n",
              "\n",
              "           [[  1,   2,   3],\n",
              "            [  4,   5,   6],\n",
              "            [  7,   8,   9],\n",
              "            [ 10,  11,  12]],\n",
              "\n",
              "           [[ 13,  14,  15],\n",
              "            [ 16,  17,  18],\n",
              "            [ 19,  20,  21],\n",
              "            [ 22,  23,  24]],\n",
              "\n",
              "           [[ 31,  32,  33],\n",
              "            [ 34,  35,  36],\n",
              "            [ 37,  38,  39],\n",
              "            [103, 113, 123]],\n",
              "\n",
              "           [[136, 146, 156],\n",
              "            [166, 176, 186],\n",
              "            [196, 206, 216],\n",
              "            [226, 236, 246]]]]]])"
            ]
          },
          "metadata": {},
          "execution_count": 29
        }
      ]
    },
    {
      "cell_type": "code",
      "source": [
        "TENSOR5.ndim"
      ],
      "metadata": {
        "colab": {
          "base_uri": "https://localhost:8080/"
        },
        "id": "QrugzEEQitKA",
        "outputId": "4ee5b821-d8c9-4f71-f939-d0338c205760"
      },
      "execution_count": 30,
      "outputs": [
        {
          "output_type": "execute_result",
          "data": {
            "text/plain": [
              "6"
            ]
          },
          "metadata": {},
          "execution_count": 30
        }
      ]
    },
    {
      "cell_type": "code",
      "source": [
        "TENSOR5.shape"
      ],
      "metadata": {
        "colab": {
          "base_uri": "https://localhost:8080/"
        },
        "id": "6n4r4SaljCxt",
        "outputId": "5f18fe28-9919-4c69-f6ce-320d0605ffba"
      },
      "execution_count": 31,
      "outputs": [
        {
          "output_type": "execute_result",
          "data": {
            "text/plain": [
              "torch.Size([1, 1, 1, 8, 4, 3])"
            ]
          },
          "metadata": {},
          "execution_count": 31
        }
      ]
    },
    {
      "cell_type": "code",
      "source": [
        "TENSOR5[0]"
      ],
      "metadata": {
        "colab": {
          "base_uri": "https://localhost:8080/"
        },
        "id": "WeHWboL5jFDt",
        "outputId": "4b0693cb-db19-44a5-aad3-4633c815f1d7"
      },
      "execution_count": 32,
      "outputs": [
        {
          "output_type": "execute_result",
          "data": {
            "text/plain": [
              "tensor([[[[[  1,   2,   3],\n",
              "           [  4,   5,   6],\n",
              "           [  7,   8,   9],\n",
              "           [ 10,  11,  12]],\n",
              "\n",
              "          [[ 13,  14,  15],\n",
              "           [ 16,  17,  18],\n",
              "           [ 19,  20,  21],\n",
              "           [ 22,  23,  24]],\n",
              "\n",
              "          [[ 31,  32,  33],\n",
              "           [ 34,  35,  36],\n",
              "           [ 37,  38,  39],\n",
              "           [103, 113, 123]],\n",
              "\n",
              "          [[136, 146, 156],\n",
              "           [166, 176, 186],\n",
              "           [196, 206, 216],\n",
              "           [226, 236, 246]],\n",
              "\n",
              "          [[  1,   2,   3],\n",
              "           [  4,   5,   6],\n",
              "           [  7,   8,   9],\n",
              "           [ 10,  11,  12]],\n",
              "\n",
              "          [[ 13,  14,  15],\n",
              "           [ 16,  17,  18],\n",
              "           [ 19,  20,  21],\n",
              "           [ 22,  23,  24]],\n",
              "\n",
              "          [[ 31,  32,  33],\n",
              "           [ 34,  35,  36],\n",
              "           [ 37,  38,  39],\n",
              "           [103, 113, 123]],\n",
              "\n",
              "          [[136, 146, 156],\n",
              "           [166, 176, 186],\n",
              "           [196, 206, 216],\n",
              "           [226, 236, 246]]]]])"
            ]
          },
          "metadata": {},
          "execution_count": 32
        }
      ]
    },
    {
      "cell_type": "code",
      "source": [
        "# Create a random tensor of shape (3, 4)\n",
        "random_tensor = torch.rand(3, 4)\n",
        "random_tensor"
      ],
      "metadata": {
        "colab": {
          "base_uri": "https://localhost:8080/"
        },
        "id": "CGsu1A9UjRbE",
        "outputId": "a0ca770d-a5c0-422b-bf06-f0574c627366"
      },
      "execution_count": 33,
      "outputs": [
        {
          "output_type": "execute_result",
          "data": {
            "text/plain": [
              "tensor([[0.9114, 0.5425, 0.0495, 0.2333],\n",
              "        [0.5032, 0.9559, 0.6789, 0.3458],\n",
              "        [0.6037, 0.7826, 0.0334, 0.1748]])"
            ]
          },
          "metadata": {},
          "execution_count": 33
        }
      ]
    },
    {
      "cell_type": "code",
      "source": [
        "random_tensor.ndim"
      ],
      "metadata": {
        "colab": {
          "base_uri": "https://localhost:8080/"
        },
        "id": "VhoDMhIHPDga",
        "outputId": "d59aa658-5c7a-4a45-e4f1-99166e251faa"
      },
      "execution_count": 34,
      "outputs": [
        {
          "output_type": "execute_result",
          "data": {
            "text/plain": [
              "2"
            ]
          },
          "metadata": {},
          "execution_count": 34
        }
      ]
    },
    {
      "cell_type": "code",
      "source": [
        "random_tensor2 = torch.rand(1, 1, 8, 4, 3)\n",
        "random_tensor2"
      ],
      "metadata": {
        "colab": {
          "base_uri": "https://localhost:8080/"
        },
        "id": "TeBww9uPPDbz",
        "outputId": "18f041c6-384c-4843-c066-6d1658cc35b0"
      },
      "execution_count": 35,
      "outputs": [
        {
          "output_type": "execute_result",
          "data": {
            "text/plain": [
              "tensor([[[[[0.0572, 0.6120, 0.9556],\n",
              "           [0.6705, 0.5789, 0.5381],\n",
              "           [0.1339, 0.1286, 0.1310],\n",
              "           [0.7714, 0.3909, 0.8980]],\n",
              "\n",
              "          [[0.4119, 0.7476, 0.1138],\n",
              "           [0.9526, 0.5570, 0.0893],\n",
              "           [0.4422, 0.0335, 0.4246],\n",
              "           [0.1149, 0.1193, 0.5946]],\n",
              "\n",
              "          [[0.0762, 0.8596, 0.5016],\n",
              "           [0.2606, 0.7907, 0.0301],\n",
              "           [0.2407, 0.0929, 0.7692],\n",
              "           [0.2041, 0.9530, 0.6810]],\n",
              "\n",
              "          [[0.2533, 0.2533, 0.0116],\n",
              "           [0.1917, 0.9207, 0.9411],\n",
              "           [0.0124, 0.6552, 0.6898],\n",
              "           [0.9173, 0.0781, 0.2217]],\n",
              "\n",
              "          [[0.8979, 0.2496, 0.2716],\n",
              "           [0.9987, 0.9535, 0.8604],\n",
              "           [0.3132, 0.4566, 0.1593],\n",
              "           [0.9808, 0.0976, 0.7763]],\n",
              "\n",
              "          [[0.1163, 0.7388, 0.7058],\n",
              "           [0.4857, 0.0687, 0.3973],\n",
              "           [0.6265, 0.7908, 0.6696],\n",
              "           [0.6660, 0.8189, 0.9976]],\n",
              "\n",
              "          [[0.2106, 0.4735, 0.0035],\n",
              "           [0.7699, 0.7393, 0.3077],\n",
              "           [0.3440, 0.1318, 0.3881],\n",
              "           [0.6363, 0.3315, 0.8722]],\n",
              "\n",
              "          [[0.4656, 0.4341, 0.9796],\n",
              "           [0.7451, 0.0246, 0.2264],\n",
              "           [0.4386, 0.8142, 0.9481],\n",
              "           [0.2861, 0.8494, 0.3120]]]]])"
            ]
          },
          "metadata": {},
          "execution_count": 35
        }
      ]
    },
    {
      "cell_type": "code",
      "source": [
        "random_tensor2.ndim"
      ],
      "metadata": {
        "colab": {
          "base_uri": "https://localhost:8080/"
        },
        "id": "z29zrWWGPDXU",
        "outputId": "f75d6ec5-0636-47ba-c71d-da046b9335a5"
      },
      "execution_count": 36,
      "outputs": [
        {
          "output_type": "execute_result",
          "data": {
            "text/plain": [
              "5"
            ]
          },
          "metadata": {},
          "execution_count": 36
        }
      ]
    },
    {
      "cell_type": "code",
      "source": [
        "random_tensor2.shape"
      ],
      "metadata": {
        "colab": {
          "base_uri": "https://localhost:8080/"
        },
        "id": "q-dW2EOTPDTO",
        "outputId": "c25b63a5-d030-4a25-fcd5-6f9157d4bea0"
      },
      "execution_count": 37,
      "outputs": [
        {
          "output_type": "execute_result",
          "data": {
            "text/plain": [
              "torch.Size([1, 1, 8, 4, 3])"
            ]
          },
          "metadata": {},
          "execution_count": 37
        }
      ]
    },
    {
      "cell_type": "code",
      "source": [
        "random_tensor2[0]"
      ],
      "metadata": {
        "colab": {
          "base_uri": "https://localhost:8080/"
        },
        "id": "KoMnIxBpPDPq",
        "outputId": "edb9539d-d4fe-43d8-fb5e-bdb8dc28cb8b"
      },
      "execution_count": 38,
      "outputs": [
        {
          "output_type": "execute_result",
          "data": {
            "text/plain": [
              "tensor([[[[0.0572, 0.6120, 0.9556],\n",
              "          [0.6705, 0.5789, 0.5381],\n",
              "          [0.1339, 0.1286, 0.1310],\n",
              "          [0.7714, 0.3909, 0.8980]],\n",
              "\n",
              "         [[0.4119, 0.7476, 0.1138],\n",
              "          [0.9526, 0.5570, 0.0893],\n",
              "          [0.4422, 0.0335, 0.4246],\n",
              "          [0.1149, 0.1193, 0.5946]],\n",
              "\n",
              "         [[0.0762, 0.8596, 0.5016],\n",
              "          [0.2606, 0.7907, 0.0301],\n",
              "          [0.2407, 0.0929, 0.7692],\n",
              "          [0.2041, 0.9530, 0.6810]],\n",
              "\n",
              "         [[0.2533, 0.2533, 0.0116],\n",
              "          [0.1917, 0.9207, 0.9411],\n",
              "          [0.0124, 0.6552, 0.6898],\n",
              "          [0.9173, 0.0781, 0.2217]],\n",
              "\n",
              "         [[0.8979, 0.2496, 0.2716],\n",
              "          [0.9987, 0.9535, 0.8604],\n",
              "          [0.3132, 0.4566, 0.1593],\n",
              "          [0.9808, 0.0976, 0.7763]],\n",
              "\n",
              "         [[0.1163, 0.7388, 0.7058],\n",
              "          [0.4857, 0.0687, 0.3973],\n",
              "          [0.6265, 0.7908, 0.6696],\n",
              "          [0.6660, 0.8189, 0.9976]],\n",
              "\n",
              "         [[0.2106, 0.4735, 0.0035],\n",
              "          [0.7699, 0.7393, 0.3077],\n",
              "          [0.3440, 0.1318, 0.3881],\n",
              "          [0.6363, 0.3315, 0.8722]],\n",
              "\n",
              "         [[0.4656, 0.4341, 0.9796],\n",
              "          [0.7451, 0.0246, 0.2264],\n",
              "          [0.4386, 0.8142, 0.9481],\n",
              "          [0.2861, 0.8494, 0.3120]]]])"
            ]
          },
          "metadata": {},
          "execution_count": 38
        }
      ]
    },
    {
      "cell_type": "code",
      "source": [
        "random_tensor3 = torch.rand(3, 2, 8, 4, 3)\n",
        "random_tensor3"
      ],
      "metadata": {
        "colab": {
          "base_uri": "https://localhost:8080/"
        },
        "id": "DMYz6iGRPchO",
        "outputId": "51085e52-d2e6-4972-8298-902939ff4865"
      },
      "execution_count": 39,
      "outputs": [
        {
          "output_type": "execute_result",
          "data": {
            "text/plain": [
              "tensor([[[[[0.4596, 0.2148, 0.7536],\n",
              "           [0.5950, 0.1629, 0.0141],\n",
              "           [0.3612, 0.0177, 0.7779],\n",
              "           [0.0992, 0.5698, 0.6940]],\n",
              "\n",
              "          [[0.7227, 0.1727, 0.3425],\n",
              "           [0.6351, 0.4928, 0.1950],\n",
              "           [0.4669, 0.6745, 0.4840],\n",
              "           [0.2577, 0.4747, 0.5579]],\n",
              "\n",
              "          [[0.3740, 0.6418, 0.8720],\n",
              "           [0.0213, 0.0929, 0.7274],\n",
              "           [0.3041, 0.1376, 0.5894],\n",
              "           [0.7563, 0.4584, 0.7870]],\n",
              "\n",
              "          [[0.5290, 0.8041, 0.6337],\n",
              "           [0.2741, 0.9238, 0.9959],\n",
              "           [0.4731, 0.3960, 0.7683],\n",
              "           [0.0175, 0.1380, 0.7919]],\n",
              "\n",
              "          [[0.0759, 0.8799, 0.7234],\n",
              "           [0.1756, 0.8022, 0.0045],\n",
              "           [0.3950, 0.3629, 0.7250],\n",
              "           [0.8728, 0.2769, 0.2351]],\n",
              "\n",
              "          [[0.1149, 0.8438, 0.8554],\n",
              "           [0.2099, 0.2692, 0.0771],\n",
              "           [0.8690, 0.6997, 0.8973],\n",
              "           [0.6418, 0.1306, 0.6025]],\n",
              "\n",
              "          [[0.0178, 0.0902, 0.4645],\n",
              "           [0.8071, 0.1341, 0.1839],\n",
              "           [0.3224, 0.3289, 0.1400],\n",
              "           [0.8461, 0.9921, 0.5929]],\n",
              "\n",
              "          [[0.9211, 0.3300, 0.6915],\n",
              "           [0.2252, 0.5577, 0.3369],\n",
              "           [0.4102, 0.2454, 0.7184],\n",
              "           [0.3870, 0.5634, 0.8295]]],\n",
              "\n",
              "\n",
              "         [[[0.3089, 0.3313, 0.7690],\n",
              "           [0.0170, 0.6506, 0.2875],\n",
              "           [0.7505, 0.2158, 0.7362],\n",
              "           [0.8155, 0.8665, 0.6153]],\n",
              "\n",
              "          [[0.3989, 0.6212, 0.4426],\n",
              "           [0.7797, 0.7443, 0.6825],\n",
              "           [0.3625, 0.7615, 0.4106],\n",
              "           [0.0820, 0.4736, 0.0538]],\n",
              "\n",
              "          [[0.7378, 0.3278, 0.1175],\n",
              "           [0.5824, 0.4761, 0.0667],\n",
              "           [0.8222, 0.4463, 0.9666],\n",
              "           [0.8008, 0.5017, 0.5288]],\n",
              "\n",
              "          [[0.3913, 0.8001, 0.4851],\n",
              "           [0.7479, 0.9542, 0.4043],\n",
              "           [0.8873, 0.4789, 0.2587],\n",
              "           [0.6223, 0.1827, 0.5946]],\n",
              "\n",
              "          [[0.2500, 0.4471, 0.3602],\n",
              "           [0.4807, 0.2590, 0.0599],\n",
              "           [0.0117, 0.2577, 0.7606],\n",
              "           [0.7180, 0.8163, 0.5336]],\n",
              "\n",
              "          [[0.3208, 0.9858, 0.1050],\n",
              "           [0.5439, 0.3821, 0.0122],\n",
              "           [0.0796, 0.7558, 0.6789],\n",
              "           [0.2539, 0.4099, 0.7568]],\n",
              "\n",
              "          [[0.3703, 0.5055, 0.9002],\n",
              "           [0.1452, 0.9463, 0.0744],\n",
              "           [0.4084, 0.8946, 0.0232],\n",
              "           [0.9988, 0.1235, 0.3820]],\n",
              "\n",
              "          [[0.1592, 0.7029, 0.4610],\n",
              "           [0.0884, 0.9947, 0.4047],\n",
              "           [0.8119, 0.3754, 0.4407],\n",
              "           [0.2889, 0.3994, 0.2972]]]],\n",
              "\n",
              "\n",
              "\n",
              "        [[[[0.1476, 0.1333, 0.3449],\n",
              "           [0.6641, 0.1969, 0.8258],\n",
              "           [0.8992, 0.5912, 0.1963],\n",
              "           [0.3010, 0.8276, 0.9681]],\n",
              "\n",
              "          [[0.7627, 0.6548, 0.9349],\n",
              "           [0.8969, 0.0835, 0.8612],\n",
              "           [0.3310, 0.4968, 0.9811],\n",
              "           [0.9448, 0.1258, 0.3521]],\n",
              "\n",
              "          [[0.6860, 0.8995, 0.3391],\n",
              "           [0.4510, 0.5474, 0.8899],\n",
              "           [0.8837, 0.9731, 0.2480],\n",
              "           [0.3624, 0.8596, 0.7882]],\n",
              "\n",
              "          [[0.9488, 0.6271, 0.1091],\n",
              "           [0.5039, 0.5091, 0.1896],\n",
              "           [0.9821, 0.0511, 0.5144],\n",
              "           [0.9402, 0.9482, 0.1042]],\n",
              "\n",
              "          [[0.8532, 0.5799, 0.9185],\n",
              "           [0.0179, 0.1455, 0.1106],\n",
              "           [0.9289, 0.8486, 0.3294],\n",
              "           [0.6142, 0.4430, 0.8645]],\n",
              "\n",
              "          [[0.3362, 0.4695, 0.8255],\n",
              "           [0.6802, 0.1856, 0.9981],\n",
              "           [0.9870, 0.5115, 0.6331],\n",
              "           [0.9103, 0.3565, 0.4269]],\n",
              "\n",
              "          [[0.3407, 0.9640, 0.3136],\n",
              "           [0.3160, 0.9690, 0.9410],\n",
              "           [0.7612, 0.7974, 0.7088],\n",
              "           [0.3522, 0.1662, 0.0168]],\n",
              "\n",
              "          [[0.0766, 0.7899, 0.1722],\n",
              "           [0.4176, 0.4487, 0.6155],\n",
              "           [0.9214, 0.8148, 0.3406],\n",
              "           [0.0053, 0.9320, 0.9007]]],\n",
              "\n",
              "\n",
              "         [[[0.0391, 0.6015, 0.1663],\n",
              "           [0.1656, 0.8849, 0.1075],\n",
              "           [0.7444, 0.7794, 0.0936],\n",
              "           [0.7233, 0.7715, 0.1160]],\n",
              "\n",
              "          [[0.4999, 0.9934, 0.5997],\n",
              "           [0.9972, 0.1604, 0.4447],\n",
              "           [0.4002, 0.9007, 0.8019],\n",
              "           [0.3582, 0.3984, 0.1294]],\n",
              "\n",
              "          [[0.8988, 0.4935, 0.5797],\n",
              "           [0.0307, 0.6231, 0.0828],\n",
              "           [0.6134, 0.5286, 0.0776],\n",
              "           [0.9785, 0.9914, 0.2765]],\n",
              "\n",
              "          [[0.4542, 0.8775, 0.6977],\n",
              "           [0.8616, 0.2050, 0.4538],\n",
              "           [0.0670, 0.5100, 0.0379],\n",
              "           [0.8305, 0.6467, 0.2926]],\n",
              "\n",
              "          [[0.9566, 0.8365, 0.6010],\n",
              "           [0.0383, 0.1975, 0.2646],\n",
              "           [0.4242, 0.5318, 0.6302],\n",
              "           [0.5103, 0.4471, 0.5646]],\n",
              "\n",
              "          [[0.1182, 0.0901, 0.2975],\n",
              "           [0.4013, 0.5670, 0.1360],\n",
              "           [0.9911, 0.8049, 0.5314],\n",
              "           [0.6654, 0.0562, 0.4776]],\n",
              "\n",
              "          [[0.6645, 0.1573, 0.9514],\n",
              "           [0.7439, 0.4870, 0.4431],\n",
              "           [0.6799, 0.4315, 0.3121],\n",
              "           [0.6214, 0.9434, 0.6467]],\n",
              "\n",
              "          [[0.9965, 0.7064, 0.0297],\n",
              "           [0.6730, 0.2834, 0.5070],\n",
              "           [0.0241, 0.6164, 0.5135],\n",
              "           [0.7812, 0.8413, 0.1998]]]],\n",
              "\n",
              "\n",
              "\n",
              "        [[[[0.2334, 0.1233, 0.8357],\n",
              "           [0.2131, 0.3702, 0.3218],\n",
              "           [0.0261, 0.3019, 0.3326],\n",
              "           [0.8576, 0.0592, 0.0452]],\n",
              "\n",
              "          [[0.4823, 0.6836, 0.1065],\n",
              "           [0.9012, 0.6883, 0.2180],\n",
              "           [0.4827, 0.5963, 0.1198],\n",
              "           [0.5216, 0.8700, 0.8921]],\n",
              "\n",
              "          [[0.8601, 0.1345, 0.1522],\n",
              "           [0.8111, 0.9168, 0.8289],\n",
              "           [0.4148, 0.2039, 0.3169],\n",
              "           [0.4445, 0.7827, 0.4781]],\n",
              "\n",
              "          [[0.5816, 0.4314, 0.6944],\n",
              "           [0.5349, 0.2144, 0.1002],\n",
              "           [0.1957, 0.3725, 0.8772],\n",
              "           [0.6142, 0.9968, 0.2109]],\n",
              "\n",
              "          [[0.0135, 0.7087, 0.6988],\n",
              "           [0.6405, 0.7999, 0.6680],\n",
              "           [0.5232, 0.7993, 0.1378],\n",
              "           [0.7311, 0.8985, 0.1076]],\n",
              "\n",
              "          [[0.1865, 0.3065, 0.1357],\n",
              "           [0.7834, 0.7251, 0.8105],\n",
              "           [0.6194, 0.3077, 0.4117],\n",
              "           [0.0656, 0.8722, 0.9800]],\n",
              "\n",
              "          [[0.4465, 0.0540, 0.6335],\n",
              "           [0.3469, 0.6425, 0.5983],\n",
              "           [0.0158, 0.7099, 0.3846],\n",
              "           [0.7924, 0.1959, 0.6119]],\n",
              "\n",
              "          [[0.2956, 0.1405, 0.9365],\n",
              "           [0.4511, 0.6444, 0.6480],\n",
              "           [0.6141, 0.6006, 0.9243],\n",
              "           [0.6637, 0.1904, 0.7372]]],\n",
              "\n",
              "\n",
              "         [[[0.4878, 0.3034, 0.2842],\n",
              "           [0.7658, 0.2161, 0.6963],\n",
              "           [0.5860, 0.5367, 0.1816],\n",
              "           [0.6585, 0.2588, 0.4730]],\n",
              "\n",
              "          [[0.1053, 0.1643, 0.5310],\n",
              "           [0.7021, 0.6076, 0.2602],\n",
              "           [0.2353, 0.0931, 0.8568],\n",
              "           [0.5988, 0.9083, 0.0105]],\n",
              "\n",
              "          [[0.4141, 0.4782, 0.0783],\n",
              "           [0.2865, 0.5134, 0.8629],\n",
              "           [0.8610, 0.7073, 0.5112],\n",
              "           [0.8416, 0.7505, 0.5244]],\n",
              "\n",
              "          [[0.0026, 0.2686, 0.0832],\n",
              "           [0.2684, 0.0752, 0.0406],\n",
              "           [0.9689, 0.5593, 0.4642],\n",
              "           [0.5380, 0.6167, 0.8896]],\n",
              "\n",
              "          [[0.3051, 0.5061, 0.1706],\n",
              "           [0.6816, 0.1090, 0.1601],\n",
              "           [0.5572, 0.1015, 0.8973],\n",
              "           [0.2970, 0.4198, 0.6496]],\n",
              "\n",
              "          [[0.8501, 0.3262, 0.2952],\n",
              "           [0.8855, 0.6650, 0.9707],\n",
              "           [0.7199, 0.3019, 0.9149],\n",
              "           [0.2780, 0.2163, 0.9562]],\n",
              "\n",
              "          [[0.8931, 0.4510, 0.6791],\n",
              "           [0.5777, 0.7396, 0.5859],\n",
              "           [0.5829, 0.9434, 0.2187],\n",
              "           [0.7526, 0.3543, 0.0044]],\n",
              "\n",
              "          [[0.3009, 0.7179, 0.5020],\n",
              "           [0.8958, 0.1632, 0.4812],\n",
              "           [0.3478, 0.2782, 0.7145],\n",
              "           [0.7400, 0.5051, 0.5637]]]]])"
            ]
          },
          "metadata": {},
          "execution_count": 39
        }
      ]
    },
    {
      "cell_type": "code",
      "source": [
        "random_tensor3.ndim"
      ],
      "metadata": {
        "colab": {
          "base_uri": "https://localhost:8080/"
        },
        "id": "rOelfsBfPw8D",
        "outputId": "db6b51c4-1c58-4f47-b862-7b39e8a445d7"
      },
      "execution_count": 40,
      "outputs": [
        {
          "output_type": "execute_result",
          "data": {
            "text/plain": [
              "5"
            ]
          },
          "metadata": {},
          "execution_count": 40
        }
      ]
    },
    {
      "cell_type": "code",
      "source": [
        "random_tensor3[2]"
      ],
      "metadata": {
        "colab": {
          "base_uri": "https://localhost:8080/"
        },
        "id": "QZoRUrAcP2io",
        "outputId": "7a770e1d-04f8-43f4-9a70-3f66535b9c63"
      },
      "execution_count": 41,
      "outputs": [
        {
          "output_type": "execute_result",
          "data": {
            "text/plain": [
              "tensor([[[[0.2334, 0.1233, 0.8357],\n",
              "          [0.2131, 0.3702, 0.3218],\n",
              "          [0.0261, 0.3019, 0.3326],\n",
              "          [0.8576, 0.0592, 0.0452]],\n",
              "\n",
              "         [[0.4823, 0.6836, 0.1065],\n",
              "          [0.9012, 0.6883, 0.2180],\n",
              "          [0.4827, 0.5963, 0.1198],\n",
              "          [0.5216, 0.8700, 0.8921]],\n",
              "\n",
              "         [[0.8601, 0.1345, 0.1522],\n",
              "          [0.8111, 0.9168, 0.8289],\n",
              "          [0.4148, 0.2039, 0.3169],\n",
              "          [0.4445, 0.7827, 0.4781]],\n",
              "\n",
              "         [[0.5816, 0.4314, 0.6944],\n",
              "          [0.5349, 0.2144, 0.1002],\n",
              "          [0.1957, 0.3725, 0.8772],\n",
              "          [0.6142, 0.9968, 0.2109]],\n",
              "\n",
              "         [[0.0135, 0.7087, 0.6988],\n",
              "          [0.6405, 0.7999, 0.6680],\n",
              "          [0.5232, 0.7993, 0.1378],\n",
              "          [0.7311, 0.8985, 0.1076]],\n",
              "\n",
              "         [[0.1865, 0.3065, 0.1357],\n",
              "          [0.7834, 0.7251, 0.8105],\n",
              "          [0.6194, 0.3077, 0.4117],\n",
              "          [0.0656, 0.8722, 0.9800]],\n",
              "\n",
              "         [[0.4465, 0.0540, 0.6335],\n",
              "          [0.3469, 0.6425, 0.5983],\n",
              "          [0.0158, 0.7099, 0.3846],\n",
              "          [0.7924, 0.1959, 0.6119]],\n",
              "\n",
              "         [[0.2956, 0.1405, 0.9365],\n",
              "          [0.4511, 0.6444, 0.6480],\n",
              "          [0.6141, 0.6006, 0.9243],\n",
              "          [0.6637, 0.1904, 0.7372]]],\n",
              "\n",
              "\n",
              "        [[[0.4878, 0.3034, 0.2842],\n",
              "          [0.7658, 0.2161, 0.6963],\n",
              "          [0.5860, 0.5367, 0.1816],\n",
              "          [0.6585, 0.2588, 0.4730]],\n",
              "\n",
              "         [[0.1053, 0.1643, 0.5310],\n",
              "          [0.7021, 0.6076, 0.2602],\n",
              "          [0.2353, 0.0931, 0.8568],\n",
              "          [0.5988, 0.9083, 0.0105]],\n",
              "\n",
              "         [[0.4141, 0.4782, 0.0783],\n",
              "          [0.2865, 0.5134, 0.8629],\n",
              "          [0.8610, 0.7073, 0.5112],\n",
              "          [0.8416, 0.7505, 0.5244]],\n",
              "\n",
              "         [[0.0026, 0.2686, 0.0832],\n",
              "          [0.2684, 0.0752, 0.0406],\n",
              "          [0.9689, 0.5593, 0.4642],\n",
              "          [0.5380, 0.6167, 0.8896]],\n",
              "\n",
              "         [[0.3051, 0.5061, 0.1706],\n",
              "          [0.6816, 0.1090, 0.1601],\n",
              "          [0.5572, 0.1015, 0.8973],\n",
              "          [0.2970, 0.4198, 0.6496]],\n",
              "\n",
              "         [[0.8501, 0.3262, 0.2952],\n",
              "          [0.8855, 0.6650, 0.9707],\n",
              "          [0.7199, 0.3019, 0.9149],\n",
              "          [0.2780, 0.2163, 0.9562]],\n",
              "\n",
              "         [[0.8931, 0.4510, 0.6791],\n",
              "          [0.5777, 0.7396, 0.5859],\n",
              "          [0.5829, 0.9434, 0.2187],\n",
              "          [0.7526, 0.3543, 0.0044]],\n",
              "\n",
              "         [[0.3009, 0.7179, 0.5020],\n",
              "          [0.8958, 0.1632, 0.4812],\n",
              "          [0.3478, 0.2782, 0.7145],\n",
              "          [0.7400, 0.5051, 0.5637]]]])"
            ]
          },
          "metadata": {},
          "execution_count": 41
        }
      ]
    },
    {
      "cell_type": "code",
      "source": [
        "# Creayte a random tensor with similar shape to an image tensor\n",
        "random_image_size_tensor = torch.rand(size= (256, 256, 3)) # height, width, colour channels\n",
        "random_image_size_tensor.shape, random_image_size_tensor.ndim"
      ],
      "metadata": {
        "colab": {
          "base_uri": "https://localhost:8080/"
        },
        "id": "ubPF5qTlP6eM",
        "outputId": "d02a3d04-259b-4796-e3ba-1058b6c9ef15"
      },
      "execution_count": 42,
      "outputs": [
        {
          "output_type": "execute_result",
          "data": {
            "text/plain": [
              "(torch.Size([256, 256, 3]), 3)"
            ]
          },
          "metadata": {},
          "execution_count": 42
        }
      ]
    },
    {
      "cell_type": "code",
      "source": [
        "image_shape_tensor = torch.rand(size= (3, 256, 256)) # colour channel, height, width\n",
        "image_shape_tensor"
      ],
      "metadata": {
        "colab": {
          "base_uri": "https://localhost:8080/"
        },
        "id": "cgY8KzC8Q7AF",
        "outputId": "9b5dfef0-5731-4d2b-e627-55f253ed2414"
      },
      "execution_count": 43,
      "outputs": [
        {
          "output_type": "execute_result",
          "data": {
            "text/plain": [
              "tensor([[[0.3186, 0.1553, 0.7185,  ..., 0.9164, 0.0622, 0.2535],\n",
              "         [0.1349, 0.0862, 0.5279,  ..., 0.7368, 0.2170, 0.5756],\n",
              "         [0.7614, 0.3140, 0.0487,  ..., 0.3629, 0.5974, 0.4994],\n",
              "         ...,\n",
              "         [0.8473, 0.7115, 0.7257,  ..., 0.4175, 0.6991, 0.0128],\n",
              "         [0.0178, 0.7767, 0.3892,  ..., 0.7053, 0.0721, 0.3779],\n",
              "         [0.1867, 0.7773, 0.9300,  ..., 0.5802, 0.6362, 0.3768]],\n",
              "\n",
              "        [[0.3796, 0.5988, 0.4661,  ..., 0.9559, 0.6837, 0.4438],\n",
              "         [0.4953, 0.2141, 0.0720,  ..., 0.4030, 0.5095, 0.0058],\n",
              "         [0.6690, 0.8204, 0.0817,  ..., 0.7103, 0.1743, 0.3451],\n",
              "         ...,\n",
              "         [0.0540, 0.2466, 0.0715,  ..., 0.5541, 0.2003, 0.7576],\n",
              "         [0.7663, 0.5450, 0.7894,  ..., 0.2041, 0.0585, 0.9156],\n",
              "         [0.8444, 0.0102, 0.7570,  ..., 0.2720, 0.4503, 0.3780]],\n",
              "\n",
              "        [[0.4790, 0.5644, 0.4861,  ..., 0.0050, 0.8218, 0.3373],\n",
              "         [0.4252, 0.8659, 0.5980,  ..., 0.5546, 0.0427, 0.1428],\n",
              "         [0.2448, 0.1987, 0.4031,  ..., 0.9880, 0.7178, 0.2748],\n",
              "         ...,\n",
              "         [0.8261, 0.5802, 0.6935,  ..., 0.8319, 0.8315, 0.7524],\n",
              "         [0.0191, 0.3899, 0.1954,  ..., 0.4030, 0.5158, 0.7283],\n",
              "         [0.5411, 0.2511, 0.5006,  ..., 0.6737, 0.9788, 0.0391]]])"
            ]
          },
          "metadata": {},
          "execution_count": 43
        }
      ]
    },
    {
      "cell_type": "code",
      "source": [
        "image_shape_tensor.shape, image_shape_tensor.ndim"
      ],
      "metadata": {
        "colab": {
          "base_uri": "https://localhost:8080/"
        },
        "id": "Ki2SGrCiRaTg",
        "outputId": "f628304a-0c43-43d9-acfb-97ea73bf0f01"
      },
      "execution_count": 44,
      "outputs": [
        {
          "output_type": "execute_result",
          "data": {
            "text/plain": [
              "(torch.Size([3, 256, 256]), 3)"
            ]
          },
          "metadata": {},
          "execution_count": 44
        }
      ]
    },
    {
      "cell_type": "markdown",
      "source": [
        "### Zeros and Ones"
      ],
      "metadata": {
        "id": "jQJWztBsR6YL"
      }
    },
    {
      "cell_type": "code",
      "source": [
        "zeros = torch.zeros(size=(4, 6))\n",
        "zeros"
      ],
      "metadata": {
        "colab": {
          "base_uri": "https://localhost:8080/"
        },
        "id": "VO_qUMQKRiMc",
        "outputId": "b8366d84-1f84-493e-a802-27647a318040"
      },
      "execution_count": 45,
      "outputs": [
        {
          "output_type": "execute_result",
          "data": {
            "text/plain": [
              "tensor([[0., 0., 0., 0., 0., 0.],\n",
              "        [0., 0., 0., 0., 0., 0.],\n",
              "        [0., 0., 0., 0., 0., 0.],\n",
              "        [0., 0., 0., 0., 0., 0.]])"
            ]
          },
          "metadata": {},
          "execution_count": 45
        }
      ]
    },
    {
      "cell_type": "code",
      "source": [
        "zeros.dtype"
      ],
      "metadata": {
        "colab": {
          "base_uri": "https://localhost:8080/"
        },
        "id": "1dr9i16ESaEE",
        "outputId": "e6eca67a-e6f5-4ea8-e815-327875956acc"
      },
      "execution_count": 46,
      "outputs": [
        {
          "output_type": "execute_result",
          "data": {
            "text/plain": [
              "torch.float32"
            ]
          },
          "metadata": {},
          "execution_count": 46
        }
      ]
    },
    {
      "cell_type": "code",
      "source": [
        "ones = torch.ones(size=(4, 6))\n",
        "ones"
      ],
      "metadata": {
        "colab": {
          "base_uri": "https://localhost:8080/"
        },
        "id": "QtCHCSxbR1bc",
        "outputId": "cb058948-949c-40de-85ca-81a8af62b83d"
      },
      "execution_count": 47,
      "outputs": [
        {
          "output_type": "execute_result",
          "data": {
            "text/plain": [
              "tensor([[1., 1., 1., 1., 1., 1.],\n",
              "        [1., 1., 1., 1., 1., 1.],\n",
              "        [1., 1., 1., 1., 1., 1.],\n",
              "        [1., 1., 1., 1., 1., 1.]])"
            ]
          },
          "metadata": {},
          "execution_count": 47
        }
      ]
    },
    {
      "cell_type": "code",
      "source": [
        "ones.dtype"
      ],
      "metadata": {
        "colab": {
          "base_uri": "https://localhost:8080/"
        },
        "id": "sRYYIPv3R1Xk",
        "outputId": "b1fddb6a-74a6-4e0a-fa6a-de3f4e5ce9be"
      },
      "execution_count": 48,
      "outputs": [
        {
          "output_type": "execute_result",
          "data": {
            "text/plain": [
              "torch.float32"
            ]
          },
          "metadata": {},
          "execution_count": 48
        }
      ]
    },
    {
      "cell_type": "markdown",
      "source": [
        "## Creating a range of tensors and tensors-like"
      ],
      "metadata": {
        "id": "fxLVKpOeSqWN"
      }
    },
    {
      "cell_type": "code",
      "source": [
        "# Use torch.range()\n",
        "torch.range(0,16)"
      ],
      "metadata": {
        "colab": {
          "base_uri": "https://localhost:8080/"
        },
        "id": "98RhGT8xSeBx",
        "outputId": "2c93994d-0f78-4a44-b180-2734c1a2a5c3"
      },
      "execution_count": 49,
      "outputs": [
        {
          "output_type": "stream",
          "name": "stderr",
          "text": [
            "/tmp/ipython-input-3854708265.py:2: UserWarning: torch.range is deprecated and will be removed in a future release because its behavior is inconsistent with Python's range builtin. Instead, use torch.arange, which produces values in [start, end).\n",
            "  torch.range(0,16)\n"
          ]
        },
        {
          "output_type": "execute_result",
          "data": {
            "text/plain": [
              "tensor([ 0.,  1.,  2.,  3.,  4.,  5.,  6.,  7.,  8.,  9., 10., 11., 12., 13.,\n",
              "        14., 15., 16.])"
            ]
          },
          "metadata": {},
          "execution_count": 49
        }
      ]
    },
    {
      "cell_type": "code",
      "source": [
        "torch.arange(0, 16)"
      ],
      "metadata": {
        "colab": {
          "base_uri": "https://localhost:8080/"
        },
        "id": "rV4_rzq0S6hk",
        "outputId": "f0dab657-e596-4425-a5ff-e869759017bb"
      },
      "execution_count": 50,
      "outputs": [
        {
          "output_type": "execute_result",
          "data": {
            "text/plain": [
              "tensor([ 0,  1,  2,  3,  4,  5,  6,  7,  8,  9, 10, 11, 12, 13, 14, 15])"
            ]
          },
          "metadata": {},
          "execution_count": 50
        }
      ]
    },
    {
      "cell_type": "code",
      "source": [
        "one_to_hundred = torch.arange(start=0, end=100, step=10)\n",
        "one_to_hundred"
      ],
      "metadata": {
        "colab": {
          "base_uri": "https://localhost:8080/"
        },
        "id": "W5OaA_EaTCQo",
        "outputId": "b58e4096-9be8-4b34-9f4b-46b370f7e036"
      },
      "execution_count": 51,
      "outputs": [
        {
          "output_type": "execute_result",
          "data": {
            "text/plain": [
              "tensor([ 0, 10, 20, 30, 40, 50, 60, 70, 80, 90])"
            ]
          },
          "metadata": {},
          "execution_count": 51
        }
      ]
    },
    {
      "cell_type": "code",
      "source": [
        "one_to_thousand = torch.arange(start= 2, end = 1000, step = 16)\n",
        "one_to_thousand"
      ],
      "metadata": {
        "colab": {
          "base_uri": "https://localhost:8080/"
        },
        "id": "3KZU0aYnTcWK",
        "outputId": "a3038bfc-3785-434c-a39e-3d451889187f"
      },
      "execution_count": 52,
      "outputs": [
        {
          "output_type": "execute_result",
          "data": {
            "text/plain": [
              "tensor([  2,  18,  34,  50,  66,  82,  98, 114, 130, 146, 162, 178, 194, 210,\n",
              "        226, 242, 258, 274, 290, 306, 322, 338, 354, 370, 386, 402, 418, 434,\n",
              "        450, 466, 482, 498, 514, 530, 546, 562, 578, 594, 610, 626, 642, 658,\n",
              "        674, 690, 706, 722, 738, 754, 770, 786, 802, 818, 834, 850, 866, 882,\n",
              "        898, 914, 930, 946, 962, 978, 994])"
            ]
          },
          "metadata": {},
          "execution_count": 52
        }
      ]
    },
    {
      "cell_type": "code",
      "source": [
        "# Creating tensors like\n",
        "one_to_thousand_like = torch.zeros_like(input=one_to_thousand)\n",
        "one_to_thousand_like"
      ],
      "metadata": {
        "colab": {
          "base_uri": "https://localhost:8080/"
        },
        "id": "pYoVBaKGTw4K",
        "outputId": "51911270-0231-43f8-b360-7a15c3e94076"
      },
      "execution_count": 53,
      "outputs": [
        {
          "output_type": "execute_result",
          "data": {
            "text/plain": [
              "tensor([0, 0, 0, 0, 0, 0, 0, 0, 0, 0, 0, 0, 0, 0, 0, 0, 0, 0, 0, 0, 0, 0, 0, 0,\n",
              "        0, 0, 0, 0, 0, 0, 0, 0, 0, 0, 0, 0, 0, 0, 0, 0, 0, 0, 0, 0, 0, 0, 0, 0,\n",
              "        0, 0, 0, 0, 0, 0, 0, 0, 0, 0, 0, 0, 0, 0, 0])"
            ]
          },
          "metadata": {},
          "execution_count": 53
        }
      ]
    },
    {
      "cell_type": "code",
      "source": [
        "like_hundred = torch.ones_like(input=one_to_hundred)\n",
        "like_hundred"
      ],
      "metadata": {
        "colab": {
          "base_uri": "https://localhost:8080/"
        },
        "id": "uFCun2YBUJBu",
        "outputId": "dab129d0-1da3-426b-cf05-442bc2f7d0cf"
      },
      "execution_count": 54,
      "outputs": [
        {
          "output_type": "execute_result",
          "data": {
            "text/plain": [
              "tensor([1, 1, 1, 1, 1, 1, 1, 1, 1, 1])"
            ]
          },
          "metadata": {},
          "execution_count": 54
        }
      ]
    },
    {
      "cell_type": "code",
      "source": [
        "like_thousand = torch.rand_like(one_to_thousand, dtype=torch.float32 )\n",
        "like_thousand"
      ],
      "metadata": {
        "colab": {
          "base_uri": "https://localhost:8080/"
        },
        "id": "NWAT9_pUUg0e",
        "outputId": "684b1c31-e05b-4465-e86b-b4e12e36f2dc"
      },
      "execution_count": 55,
      "outputs": [
        {
          "output_type": "execute_result",
          "data": {
            "text/plain": [
              "tensor([0.0720, 0.1412, 0.0251, 0.9299, 0.8199, 0.9019, 0.8144, 0.5434, 0.6557,\n",
              "        0.2375, 0.7097, 0.3167, 0.8454, 0.0907, 0.6092, 0.4374, 0.5654, 0.1685,\n",
              "        0.4649, 0.3360, 0.9139, 0.9196, 0.5996, 0.8288, 0.8350, 0.9322, 0.4274,\n",
              "        0.0398, 0.8843, 0.8604, 0.0472, 0.9693, 0.8967, 0.7535, 0.2517, 0.9706,\n",
              "        0.0488, 0.3884, 0.6895, 0.9145, 0.2514, 0.9309, 0.0292, 0.2910, 0.1288,\n",
              "        0.0532, 0.9605, 0.0239, 0.8041, 0.3173, 0.2043, 0.3861, 0.6435, 0.9336,\n",
              "        0.7209, 0.4294, 0.1678, 0.4118, 0.4461, 0.1158, 0.7081, 0.1424, 0.5588])"
            ]
          },
          "metadata": {},
          "execution_count": 55
        }
      ]
    },
    {
      "cell_type": "code",
      "source": [
        "like_hundred2 = torch.rand_like(one_to_hundred, dtype=torch.float32)\n",
        "like_hundred2"
      ],
      "metadata": {
        "colab": {
          "base_uri": "https://localhost:8080/"
        },
        "id": "NOOFDHZIVd4o",
        "outputId": "fb686d0c-833a-40b4-f861-7feff7445920"
      },
      "execution_count": 56,
      "outputs": [
        {
          "output_type": "execute_result",
          "data": {
            "text/plain": [
              "tensor([0.5223, 0.0249, 0.7037, 0.8272, 0.3951, 0.2383, 0.8184, 0.2201, 0.8225,\n",
              "        0.9213])"
            ]
          },
          "metadata": {},
          "execution_count": 56
        }
      ]
    },
    {
      "cell_type": "markdown",
      "source": [
        "## Tensor Datatypes\n"
      ],
      "metadata": {
        "id": "VoS8orDQXEod"
      }
    },
    {
      "cell_type": "code",
      "source": [
        "# Float 32 tensor\n",
        "# Float 32 is default datatype in PyTorch\n",
        "float_32 = torch.tensor([.4, .5, .6], dtype=None)\n",
        "float_32"
      ],
      "metadata": {
        "colab": {
          "base_uri": "https://localhost:8080/"
        },
        "id": "PB3NB7xHW0Nt",
        "outputId": "d0bc5fd0-cd31-426f-b1e0-d3a55408709f"
      },
      "execution_count": 57,
      "outputs": [
        {
          "output_type": "execute_result",
          "data": {
            "text/plain": [
              "tensor([0.4000, 0.5000, 0.6000])"
            ]
          },
          "metadata": {},
          "execution_count": 57
        }
      ]
    },
    {
      "cell_type": "markdown",
      "source": [],
      "metadata": {
        "id": "MA7Dn7LybNMG"
      }
    },
    {
      "cell_type": "code",
      "source": [
        "import sys\n",
        "float_32_tensor = torch.tensor([1.0, 6.0, 16.0], dtype=None)\n",
        "sys.stdout.write(str(float_32_tensor) + '\\n' + str(float_32_tensor.dtype)) #37 is the character count for standard output"
      ],
      "metadata": {
        "colab": {
          "base_uri": "https://localhost:8080/"
        },
        "id": "G0HqfeMtX2Tm",
        "outputId": "86748ada-13ba-4f56-9acb-9c803d353bc9"
      },
      "execution_count": 58,
      "outputs": [
        {
          "output_type": "stream",
          "name": "stdout",
          "text": [
            "tensor([ 1.,  6., 16.])\n",
            "torch.float32"
          ]
        },
        {
          "output_type": "execute_result",
          "data": {
            "text/plain": [
              "37"
            ]
          },
          "metadata": {},
          "execution_count": 58
        }
      ]
    },
    {
      "cell_type": "code",
      "source": [
        "float_32_tensor = torch.tensor([1.0, 6.0, 16.0], dtype=None)\n",
        "float_32_tensor.shape, float_32_tensor.ndim, float_32_tensor.dtype"
      ],
      "metadata": {
        "colab": {
          "base_uri": "https://localhost:8080/"
        },
        "id": "7LqP2JkwZudJ",
        "outputId": "9927ef4c-c306-4ca3-8577-40d45d774b6e"
      },
      "execution_count": 59,
      "outputs": [
        {
          "output_type": "execute_result",
          "data": {
            "text/plain": [
              "(torch.Size([3]), 1, torch.float32)"
            ]
          },
          "metadata": {},
          "execution_count": 59
        }
      ]
    },
    {
      "cell_type": "code",
      "source": [
        "float_32_tensor = torch.tensor([1.0, 6.0, 16.0],\n",
        "                               dtype=None,\n",
        "                               device=None,\n",
        "                               requires_grad=False)\n",
        "float_32_tensor"
      ],
      "metadata": {
        "colab": {
          "base_uri": "https://localhost:8080/"
        },
        "id": "_YqxRbN3a_xt",
        "outputId": "f7d43bb8-7d0b-47d0-e5ae-779b0b5297f1"
      },
      "execution_count": 60,
      "outputs": [
        {
          "output_type": "execute_result",
          "data": {
            "text/plain": [
              "tensor([ 1.,  6., 16.])"
            ]
          },
          "metadata": {},
          "execution_count": 60
        }
      ]
    },
    {
      "cell_type": "code",
      "source": [
        "float_16_tensor = torch.tensor([1.0, 6.0, 16.0],\n",
        "                               dtype=torch.float16,\n",
        "                               device=None,\n",
        "                               requires_grad=False)\n",
        "float_16_tensor"
      ],
      "metadata": {
        "colab": {
          "base_uri": "https://localhost:8080/"
        },
        "id": "AnLiWsVHbgSn",
        "outputId": "56041e46-23b3-4a5e-f2e4-6eb4ce48435d"
      },
      "execution_count": 61,
      "outputs": [
        {
          "output_type": "execute_result",
          "data": {
            "text/plain": [
              "tensor([ 1.,  6., 16.], dtype=torch.float16)"
            ]
          },
          "metadata": {},
          "execution_count": 61
        }
      ]
    },
    {
      "cell_type": "code",
      "source": [
        "float_16_tensor.dtype"
      ],
      "metadata": {
        "colab": {
          "base_uri": "https://localhost:8080/"
        },
        "id": "reAtkAnYb_qI",
        "outputId": "5dbabd0f-3ff1-4f69-9d4f-4656b295fc38"
      },
      "execution_count": 62,
      "outputs": [
        {
          "output_type": "execute_result",
          "data": {
            "text/plain": [
              "torch.float16"
            ]
          },
          "metadata": {},
          "execution_count": 62
        }
      ]
    },
    {
      "cell_type": "code",
      "source": [
        "float_16_tensor = torch.tensor([1.0, 6.0, 16.0],\n",
        "                               dtype=torch.float16,\n",
        "                               device=\"cpu\",\n",
        "                               requires_grad=False)\n",
        "float_16_tensor.device"
      ],
      "metadata": {
        "colab": {
          "base_uri": "https://localhost:8080/"
        },
        "id": "MwG9COeYcJB5",
        "outputId": "8c90c0da-9b6f-4f3a-f077-71140c2813fe"
      },
      "execution_count": 63,
      "outputs": [
        {
          "output_type": "execute_result",
          "data": {
            "text/plain": [
              "device(type='cpu')"
            ]
          },
          "metadata": {},
          "execution_count": 63
        }
      ]
    },
    {
      "cell_type": "code",
      "source": [
        "float_16_tensor2 = float_32_tensor.type(torch.float16)\n",
        "float_16_tensor2.dtype"
      ],
      "metadata": {
        "colab": {
          "base_uri": "https://localhost:8080/"
        },
        "id": "3EqSXaffcvoq",
        "outputId": "cd8c2898-e6df-4370-d3e6-f67aefa9c00a"
      },
      "execution_count": 64,
      "outputs": [
        {
          "output_type": "execute_result",
          "data": {
            "text/plain": [
              "torch.float16"
            ]
          },
          "metadata": {},
          "execution_count": 64
        }
      ]
    },
    {
      "cell_type": "code",
      "source": [
        "float_16_tensor * float_32_tensor"
      ],
      "metadata": {
        "id": "87T7D6jidZqN",
        "colab": {
          "base_uri": "https://localhost:8080/"
        },
        "outputId": "552d542a-72f4-49dd-cc15-41a25f3aee51"
      },
      "execution_count": 65,
      "outputs": [
        {
          "output_type": "execute_result",
          "data": {
            "text/plain": [
              "tensor([  1.,  36., 256.])"
            ]
          },
          "metadata": {},
          "execution_count": 65
        }
      ]
    },
    {
      "cell_type": "code",
      "source": [
        "int_32_tensor = torch.rand([1, 3])\n",
        "int_32_tensor"
      ],
      "metadata": {
        "colab": {
          "base_uri": "https://localhost:8080/"
        },
        "id": "SmiBg0ChDySo",
        "outputId": "14ec2f86-82b7-42b6-e7b7-b87bcfee8940"
      },
      "execution_count": 66,
      "outputs": [
        {
          "output_type": "execute_result",
          "data": {
            "text/plain": [
              "tensor([[0.0793, 0.5588, 0.3281]])"
            ]
          },
          "metadata": {},
          "execution_count": 66
        }
      ]
    },
    {
      "cell_type": "code",
      "source": [
        "float_32_tensor * int_32_tensor"
      ],
      "metadata": {
        "colab": {
          "base_uri": "https://localhost:8080/"
        },
        "id": "TePEiSo8ERjN",
        "outputId": "369df889-729e-4db6-f26b-e9b2226761bf"
      },
      "execution_count": 67,
      "outputs": [
        {
          "output_type": "execute_result",
          "data": {
            "text/plain": [
              "tensor([[0.0793, 3.3530, 5.2497]])"
            ]
          },
          "metadata": {},
          "execution_count": 67
        }
      ]
    },
    {
      "cell_type": "code",
      "source": [
        "long_64_tensor = torch.tensor([1, 6, 16], dtype=torch.long)\n",
        "long_64_tensor"
      ],
      "metadata": {
        "colab": {
          "base_uri": "https://localhost:8080/"
        },
        "id": "2jbjRbgmEXy_",
        "outputId": "88f9e2de-2540-47d4-bd33-010ae9238c91"
      },
      "execution_count": 68,
      "outputs": [
        {
          "output_type": "execute_result",
          "data": {
            "text/plain": [
              "tensor([ 1,  6, 16])"
            ]
          },
          "metadata": {},
          "execution_count": 68
        }
      ]
    },
    {
      "cell_type": "code",
      "source": [
        "float_32_tensor * long_64_tensor"
      ],
      "metadata": {
        "colab": {
          "base_uri": "https://localhost:8080/"
        },
        "id": "EMgBU-l4E8iv",
        "outputId": "67cc43ca-2d43-45f1-b32e-9f9066a3797e"
      },
      "execution_count": 69,
      "outputs": [
        {
          "output_type": "execute_result",
          "data": {
            "text/plain": [
              "tensor([  1.,  36., 256.])"
            ]
          },
          "metadata": {},
          "execution_count": 69
        }
      ]
    },
    {
      "cell_type": "code",
      "source": [
        "kinda_tensor = torch.rand([6,6])\n",
        "print(kinda_tensor)\n",
        "print(f\"Kinda Tensor's datatype:{kinda_tensor.dtype}\") #attribute\n",
        "print(f\"Kinda Tensor's shape: {kinda_tensor.shape}\") #attribute\n",
        "print(f\"Kinda Tensor's device: {kinda_tensor.device}\") #attribute\n",
        "print(f\"Kinda Tensors size: {kinda_tensor.size()}\") #size is a function"
      ],
      "metadata": {
        "colab": {
          "base_uri": "https://localhost:8080/"
        },
        "id": "2LT_e76dFCU-",
        "outputId": "30407842-f2b8-41a3-ac1c-ffeefe1cafae"
      },
      "execution_count": 70,
      "outputs": [
        {
          "output_type": "stream",
          "name": "stdout",
          "text": [
            "tensor([[0.2595, 0.1607, 0.8682, 0.7694, 0.8747, 0.2838],\n",
            "        [0.2762, 0.6977, 0.4870, 0.4565, 0.8608, 0.0140],\n",
            "        [0.1588, 0.1017, 0.1643, 0.6168, 0.7901, 0.6693],\n",
            "        [0.8102, 0.7581, 0.7251, 0.0782, 0.8475, 0.0926],\n",
            "        [0.7143, 0.5126, 0.1469, 0.9897, 0.0681, 0.9251],\n",
            "        [0.0722, 0.2044, 0.8104, 0.6446, 0.8384, 0.9773]])\n",
            "Kinda Tensor's datatype:torch.float32\n",
            "Kinda Tensor's shape: torch.Size([6, 6])\n",
            "Kinda Tensor's device: cpu\n",
            "Kinda Tensors size: torch.Size([6, 6])\n"
          ]
        }
      ]
    },
    {
      "cell_type": "code",
      "source": [
        "device = \"cuda\" if torch.cuda.is_available() else \"cpu\"\n",
        "meh_tensor = torch.rand([6,6], dtype=torch.float16, device=device)\n",
        "print(meh_tensor)\n",
        "print(f\"Meh Tensor's datatype:{meh_tensor.dtype}\") #attribute\n",
        "print(f\"Meh Tensor's shape: {meh_tensor.shape}\") #attribute\n",
        "print(f\"Meh Tensor's device: {meh_tensor.device}\") #attribute\n",
        "print(f\"Meh Tensors size: {meh_tensor.size()}\") #size is a function"
      ],
      "metadata": {
        "colab": {
          "base_uri": "https://localhost:8080/"
        },
        "id": "1u61YkuPGSFN",
        "outputId": "f9f95081-8d0b-4e9e-eeb8-1fe9032f086c"
      },
      "execution_count": 71,
      "outputs": [
        {
          "output_type": "stream",
          "name": "stdout",
          "text": [
            "tensor([[0.5278, 0.4995, 0.1475, 0.2070, 0.3857, 0.9702],\n",
            "        [0.6396, 0.8472, 0.0327, 0.8804, 0.7378, 0.0713],\n",
            "        [0.8389, 0.2466, 0.7466, 0.4458, 0.4434, 0.1187],\n",
            "        [0.5469, 0.0420, 0.7065, 0.7617, 0.9170, 0.7212],\n",
            "        [0.0713, 0.8320, 0.1387, 0.3872, 0.0527, 0.1758],\n",
            "        [0.6748, 0.3926, 0.1714, 0.3921, 0.5874, 0.9692]], dtype=torch.float16)\n",
            "Meh Tensor's datatype:torch.float16\n",
            "Meh Tensor's shape: torch.Size([6, 6])\n",
            "Meh Tensor's device: cpu\n",
            "Meh Tensors size: torch.Size([6, 6])\n"
          ]
        }
      ]
    },
    {
      "cell_type": "markdown",
      "source": [
        "## Manipulating Tensors"
      ],
      "metadata": {
        "id": "JU8gsInLufrO"
      }
    },
    {
      "cell_type": "code",
      "source": [
        "tensor1 = torch.tensor([100, 200, 300])\n",
        "tensor1 + 100"
      ],
      "metadata": {
        "id": "V2vp59RRHpvd",
        "colab": {
          "base_uri": "https://localhost:8080/"
        },
        "outputId": "bd31a0fe-f309-4610-d1d2-6ed75745ae64"
      },
      "execution_count": 72,
      "outputs": [
        {
          "output_type": "execute_result",
          "data": {
            "text/plain": [
              "tensor([200, 300, 400])"
            ]
          },
          "metadata": {},
          "execution_count": 72
        }
      ]
    },
    {
      "cell_type": "code",
      "source": [
        "tensor1 - 100"
      ],
      "metadata": {
        "colab": {
          "base_uri": "https://localhost:8080/"
        },
        "id": "HaoNjb2_uw0O",
        "outputId": "44a43499-1aad-425b-96ce-147c6f657712"
      },
      "execution_count": 73,
      "outputs": [
        {
          "output_type": "execute_result",
          "data": {
            "text/plain": [
              "tensor([  0, 100, 200])"
            ]
          },
          "metadata": {},
          "execution_count": 73
        }
      ]
    },
    {
      "cell_type": "code",
      "source": [
        "tensor1 * 100"
      ],
      "metadata": {
        "colab": {
          "base_uri": "https://localhost:8080/"
        },
        "id": "rgdw4fwPu3Uu",
        "outputId": "9a48532d-413d-4f94-d897-cd346ecb8265"
      },
      "execution_count": 74,
      "outputs": [
        {
          "output_type": "execute_result",
          "data": {
            "text/plain": [
              "tensor([10000, 20000, 30000])"
            ]
          },
          "metadata": {},
          "execution_count": 74
        }
      ]
    },
    {
      "cell_type": "code",
      "source": [
        "tensor1 / 100"
      ],
      "metadata": {
        "colab": {
          "base_uri": "https://localhost:8080/"
        },
        "id": "BsQOg_jIu67B",
        "outputId": "74c363e3-5af0-43bd-9d6c-7751b5f8df2f"
      },
      "execution_count": 75,
      "outputs": [
        {
          "output_type": "execute_result",
          "data": {
            "text/plain": [
              "tensor([1., 2., 3.])"
            ]
          },
          "metadata": {},
          "execution_count": 75
        }
      ]
    },
    {
      "cell_type": "markdown",
      "source": [
        "### PyTorch in-build functions"
      ],
      "metadata": {
        "id": "oaTpT3zfvbTt"
      }
    },
    {
      "cell_type": "code",
      "source": [
        "torch.add(tensor1, 100)"
      ],
      "metadata": {
        "colab": {
          "base_uri": "https://localhost:8080/"
        },
        "id": "aDUzhHPwvQMw",
        "outputId": "57b3a1eb-589e-4ed5-b912-b0baf731aacf"
      },
      "execution_count": 76,
      "outputs": [
        {
          "output_type": "execute_result",
          "data": {
            "text/plain": [
              "tensor([200, 300, 400])"
            ]
          },
          "metadata": {},
          "execution_count": 76
        }
      ]
    },
    {
      "cell_type": "code",
      "source": [
        "torch.sub(tensor1, 100)"
      ],
      "metadata": {
        "colab": {
          "base_uri": "https://localhost:8080/"
        },
        "id": "Bzz3EFgkvneg",
        "outputId": "872f9b88-f0ea-40f3-f098-b0a62459e220"
      },
      "execution_count": 77,
      "outputs": [
        {
          "output_type": "execute_result",
          "data": {
            "text/plain": [
              "tensor([  0, 100, 200])"
            ]
          },
          "metadata": {},
          "execution_count": 77
        }
      ]
    },
    {
      "cell_type": "code",
      "source": [
        "torch.mul(tensor1, 100)"
      ],
      "metadata": {
        "colab": {
          "base_uri": "https://localhost:8080/"
        },
        "id": "VfgD5BfCwYcC",
        "outputId": "818e40fa-85c1-4660-9f36-0a7fc8eedcb3"
      },
      "execution_count": 78,
      "outputs": [
        {
          "output_type": "execute_result",
          "data": {
            "text/plain": [
              "tensor([10000, 20000, 30000])"
            ]
          },
          "metadata": {},
          "execution_count": 78
        }
      ]
    },
    {
      "cell_type": "code",
      "source": [
        "torch.div(tensor1, 100)"
      ],
      "metadata": {
        "colab": {
          "base_uri": "https://localhost:8080/"
        },
        "id": "PXPx4Uebwbd9",
        "outputId": "03d9d02a-871b-4804-9b75-79f5076be524"
      },
      "execution_count": 79,
      "outputs": [
        {
          "output_type": "execute_result",
          "data": {
            "text/plain": [
              "tensor([1., 2., 3.])"
            ]
          },
          "metadata": {},
          "execution_count": 79
        }
      ]
    },
    {
      "cell_type": "code",
      "source": [
        "# Element wise multiplication\n",
        "print(tensor1, \"*\", tensor1)\n",
        "print(f\"Multiplication equals:{tensor1 * tensor1}\")"
      ],
      "metadata": {
        "colab": {
          "base_uri": "https://localhost:8080/"
        },
        "id": "Fa1yQji8wexB",
        "outputId": "03a0b328-c293-4d0b-a748-1c9291de80fd"
      },
      "execution_count": 80,
      "outputs": [
        {
          "output_type": "stream",
          "name": "stdout",
          "text": [
            "tensor([100, 200, 300]) * tensor([100, 200, 300])\n",
            "Multiplication equals:tensor([10000, 40000, 90000])\n"
          ]
        }
      ]
    },
    {
      "cell_type": "code",
      "source": [
        "torch.matmul(tensor1, tensor1) #This is just the addition of the element wise products"
      ],
      "metadata": {
        "colab": {
          "base_uri": "https://localhost:8080/"
        },
        "id": "cXqURvoIxXcV",
        "outputId": "295cab6f-28bd-42bd-dd69-35e8e939361b"
      },
      "execution_count": 81,
      "outputs": [
        {
          "output_type": "execute_result",
          "data": {
            "text/plain": [
              "tensor(140000)"
            ]
          },
          "metadata": {},
          "execution_count": 81
        }
      ]
    },
    {
      "cell_type": "markdown",
      "source": [],
      "metadata": {
        "id": "PzIibyygyxVC"
      }
    },
    {
      "cell_type": "markdown",
      "source": [
        "## This ChatGPT chat show why the below to code shows different outcomes?\n",
        "- https://chatgpt.com/share/68911a9a-a8e8-8009-bbbc-cdfece7c3167"
      ],
      "metadata": {
        "id": "49uYEh3x0BLe"
      }
    },
    {
      "cell_type": "code",
      "source": [
        "%%time\n",
        "value = 0\n",
        "for i in range (len(tensor1)):\n",
        "  value += tensor1[i] * tensor1[i]\n",
        "print(value)"
      ],
      "metadata": {
        "colab": {
          "base_uri": "https://localhost:8080/"
        },
        "id": "WysQ8QJlx4e7",
        "outputId": "87751eb6-90d6-4fb0-ace1-87459c55b480"
      },
      "execution_count": 82,
      "outputs": [
        {
          "output_type": "stream",
          "name": "stdout",
          "text": [
            "tensor(140000)\n",
            "CPU times: user 787 µs, sys: 0 ns, total: 787 µs\n",
            "Wall time: 836 µs\n"
          ]
        }
      ]
    },
    {
      "cell_type": "code",
      "source": [
        "%%time\n",
        "torch.matmul(tensor1, tensor1)"
      ],
      "metadata": {
        "colab": {
          "base_uri": "https://localhost:8080/"
        },
        "id": "Pp1EF_KcyUkY",
        "outputId": "763f7705-5019-4bd0-ff17-9147755750e4"
      },
      "execution_count": 83,
      "outputs": [
        {
          "output_type": "stream",
          "name": "stdout",
          "text": [
            "CPU times: user 37 µs, sys: 6 µs, total: 43 µs\n",
            "Wall time: 47 µs\n"
          ]
        },
        {
          "output_type": "execute_result",
          "data": {
            "text/plain": [
              "tensor(140000)"
            ]
          },
          "metadata": {},
          "execution_count": 83
        }
      ]
    },
    {
      "cell_type": "markdown",
      "source": [
        "### One of the most common error in deep learning: shape errors (I know right!!!🙂)\n",
        "\n"
      ],
      "metadata": {
        "id": "i1wrIRRA1GZK"
      }
    },
    {
      "cell_type": "markdown",
      "source": [
        "#### 1. Inner Dimension must match:\n",
        "* `(6,4) @ (6,4)` won't work\n",
        "* `(4,6) @ (6,4)` will work\n",
        "* `(6,4) @ (4,6)` will work\n"
      ],
      "metadata": {
        "id": "gdgMyCVc1Lnq"
      }
    },
    {
      "cell_type": "code",
      "source": [
        "torch.matmul(torch.rand(4,6), torch.rand(6, 4))"
      ],
      "metadata": {
        "colab": {
          "base_uri": "https://localhost:8080/"
        },
        "id": "FsZAi71myUgS",
        "outputId": "6aae162b-d128-41ac-e2c9-7ace79c944cc"
      },
      "execution_count": 84,
      "outputs": [
        {
          "output_type": "execute_result",
          "data": {
            "text/plain": [
              "tensor([[2.6523, 1.4093, 2.3760, 1.9270],\n",
              "        [1.5758, 1.0703, 1.0841, 0.8042],\n",
              "        [2.8284, 1.5114, 1.9316, 1.9385],\n",
              "        [1.8619, 0.9381, 1.9930, 1.6237]])"
            ]
          },
          "metadata": {},
          "execution_count": 84
        }
      ]
    },
    {
      "cell_type": "markdown",
      "source": [],
      "metadata": {
        "id": "TSjL189u2E-m"
      }
    },
    {
      "cell_type": "markdown",
      "source": [
        "#### 2. The resulting matrix has the shape of the **outer dimensions**:\n",
        "* `(4,6) @ (6,4)` shapes -> (4,4)\n",
        "* `(6,4) @ (4,6)` shapes -> (6,6)\n",
        "* `(6,3) @ (3,4)` shapes -> (3,4)"
      ],
      "metadata": {
        "id": "dAWdgP0Z2IFg"
      }
    },
    {
      "cell_type": "code",
      "source": [
        "torch.matmul(torch.rand(6, 4), torch.rand(4, 6))"
      ],
      "metadata": {
        "colab": {
          "base_uri": "https://localhost:8080/"
        },
        "id": "NpdSC-bd2C-5",
        "outputId": "61a4fa74-afd5-4623-90c8-648d94fd0215"
      },
      "execution_count": 85,
      "outputs": [
        {
          "output_type": "execute_result",
          "data": {
            "text/plain": [
              "tensor([[1.4100, 1.7688, 1.5685, 0.9697, 1.9436, 1.9098],\n",
              "        [1.2854, 1.9544, 1.4780, 1.1693, 2.0398, 1.4952],\n",
              "        [0.5309, 1.1616, 1.2194, 0.6934, 1.2836, 1.3085],\n",
              "        [0.8155, 1.2392, 1.0798, 0.6182, 1.3610, 1.1970],\n",
              "        [1.1363, 1.2187, 0.6952, 0.9237, 1.1872, 0.7580],\n",
              "        [0.7813, 1.0284, 0.9305, 0.5819, 1.1275, 1.1150]])"
            ]
          },
          "metadata": {},
          "execution_count": 85
        }
      ]
    },
    {
      "cell_type": "code",
      "source": [
        "torch.matmul(torch.rand(6, 4), torch.rand(4, 3))"
      ],
      "metadata": {
        "colab": {
          "base_uri": "https://localhost:8080/"
        },
        "id": "BU0OOxnE3gIg",
        "outputId": "74c43396-9992-4304-b5c7-562dd1fdbf9b"
      },
      "execution_count": 86,
      "outputs": [
        {
          "output_type": "execute_result",
          "data": {
            "text/plain": [
              "tensor([[1.8335, 1.1219, 1.1692],\n",
              "        [2.5513, 1.8879, 1.8335],\n",
              "        [1.1456, 0.8683, 0.9459],\n",
              "        [1.5087, 0.8446, 0.7057],\n",
              "        [1.8226, 1.1000, 1.2308],\n",
              "        [1.8595, 1.2453, 1.3154]])"
            ]
          },
          "metadata": {},
          "execution_count": 86
        }
      ]
    },
    {
      "cell_type": "markdown",
      "source": [
        "### To fix our tensor shapr issues, we can manipulate the shape of one of our tensors using **Transpose**.\n",
        "\n",
        "### A **transpose** switches the axes or dimensions of a given tensor."
      ],
      "metadata": {
        "id": "A26PKGgH5FIm"
      }
    },
    {
      "cell_type": "code",
      "source": [
        "tensorA = torch.tensor([[1, 2],\n",
        "                        [3, 4],\n",
        "                        [5, 6]])\n",
        "tensorB = torch. tensor([[11, 12],\n",
        "                         [13, 14],\n",
        "                         [15, 16]])\n",
        "tensorA, tensorB"
      ],
      "metadata": {
        "colab": {
          "base_uri": "https://localhost:8080/"
        },
        "id": "l-_T4Na34Bzf",
        "outputId": "b2f41a47-fc5b-4e70-b6bc-db7856f69911"
      },
      "execution_count": 87,
      "outputs": [
        {
          "output_type": "execute_result",
          "data": {
            "text/plain": [
              "(tensor([[1, 2],\n",
              "         [3, 4],\n",
              "         [5, 6]]),\n",
              " tensor([[11, 12],\n",
              "         [13, 14],\n",
              "         [15, 16]]))"
            ]
          },
          "metadata": {},
          "execution_count": 87
        }
      ]
    },
    {
      "cell_type": "code",
      "source": [
        "tensorA.T #Transpose of tensorA\n",
        "tensorB.T #Tnanspose of tensorB\n",
        "\n",
        "tensorA.T, tensorB.T"
      ],
      "metadata": {
        "colab": {
          "base_uri": "https://localhost:8080/"
        },
        "id": "UH4TSqfB6Kqo",
        "outputId": "0af004da-fe52-426c-91c7-7c6c99ae9d9d"
      },
      "execution_count": 88,
      "outputs": [
        {
          "output_type": "execute_result",
          "data": {
            "text/plain": [
              "(tensor([[1, 3, 5],\n",
              "         [2, 4, 6]]),\n",
              " tensor([[11, 13, 15],\n",
              "         [12, 14, 16]]))"
            ]
          },
          "metadata": {},
          "execution_count": 88
        }
      ]
    },
    {
      "cell_type": "code",
      "source": [
        "tensorA.shape, tensorB.shape"
      ],
      "metadata": {
        "colab": {
          "base_uri": "https://localhost:8080/"
        },
        "id": "XuWPpoLY7ZKq",
        "outputId": "844299b8-59b0-4a78-d9a1-642d36091841"
      },
      "execution_count": 89,
      "outputs": [
        {
          "output_type": "execute_result",
          "data": {
            "text/plain": [
              "(torch.Size([3, 2]), torch.Size([3, 2]))"
            ]
          },
          "metadata": {},
          "execution_count": 89
        }
      ]
    },
    {
      "cell_type": "code",
      "source": [
        "tensorA.T.shape, tensorB.T.shape"
      ],
      "metadata": {
        "colab": {
          "base_uri": "https://localhost:8080/"
        },
        "id": "WOcMJWEE6cjU",
        "outputId": "567edc63-cac7-4d18-c24e-9f26a454f961"
      },
      "execution_count": 90,
      "outputs": [
        {
          "output_type": "execute_result",
          "data": {
            "text/plain": [
              "(torch.Size([2, 3]), torch.Size([2, 3]))"
            ]
          },
          "metadata": {},
          "execution_count": 90
        }
      ]
    },
    {
      "cell_type": "code",
      "source": [
        "tensorA * tensorB # This is working because it is element wise multiplication"
      ],
      "metadata": {
        "colab": {
          "base_uri": "https://localhost:8080/"
        },
        "id": "23AH-vdc65E-",
        "outputId": "6bd0d2c6-150b-4594-910b-3cb8f238773b"
      },
      "execution_count": 91,
      "outputs": [
        {
          "output_type": "execute_result",
          "data": {
            "text/plain": [
              "tensor([[11, 24],\n",
              "        [39, 56],\n",
              "        [75, 96]])"
            ]
          },
          "metadata": {},
          "execution_count": 91
        }
      ]
    },
    {
      "cell_type": "code",
      "source": [
        "##torch.mm(tensorA, tensorB) <- This won't work for matrix multiplication\n",
        "torch.mm(tensorA, tensorB.T) # mm = matmul"
      ],
      "metadata": {
        "colab": {
          "base_uri": "https://localhost:8080/"
        },
        "id": "f3DDGTU37qcb",
        "outputId": "c3c52bf3-a7d8-45f7-f946-ca7be145eaa6"
      },
      "execution_count": 92,
      "outputs": [
        {
          "output_type": "execute_result",
          "data": {
            "text/plain": [
              "tensor([[ 35,  41,  47],\n",
              "        [ 81,  95, 109],\n",
              "        [127, 149, 171]])"
            ]
          },
          "metadata": {},
          "execution_count": 92
        }
      ]
    },
    {
      "cell_type": "code",
      "source": [
        "torch.mm(tensorA, tensorB.T).shape  ## As of rule 2 for matrix multiplication"
      ],
      "metadata": {
        "colab": {
          "base_uri": "https://localhost:8080/"
        },
        "id": "PDcRETfw8p2q",
        "outputId": "0012c270-0ad8-4cb0-a92c-55f4989e58c6"
      },
      "execution_count": 93,
      "outputs": [
        {
          "output_type": "execute_result",
          "data": {
            "text/plain": [
              "torch.Size([3, 3])"
            ]
          },
          "metadata": {},
          "execution_count": 93
        }
      ]
    },
    {
      "cell_type": "code",
      "source": [
        "# The matrix multiplication operation works when tensorB is transposed\n",
        "print(f\"Original shapes: tensorA = {tensorA.shape}, tensorB = {tensorB.shape}\")\n",
        "print(f\"New shapes: tensorA = {tensorA.shape} (same shape as above), tensorB.T = {tensorB.T.shape}\")\n",
        "print(f\"Multiplying: {tensorA.shape} @ {tensorB.T.shape} <- inner dimensions must match\")\n",
        "print(\"Output: \\n\")\n",
        "output = torch.mm(tensorA, tensorB.T)\n",
        "print(output)\n",
        "print(f\"\\nOutput shaper: {output.shape}\")"
      ],
      "metadata": {
        "colab": {
          "base_uri": "https://localhost:8080/"
        },
        "id": "36-QFy_S-ERs",
        "outputId": "f6e54067-ec80-46b7-e46b-966c600ef2b9"
      },
      "execution_count": 94,
      "outputs": [
        {
          "output_type": "stream",
          "name": "stdout",
          "text": [
            "Original shapes: tensorA = torch.Size([3, 2]), tensorB = torch.Size([3, 2])\n",
            "New shapes: tensorA = torch.Size([3, 2]) (same shape as above), tensorB.T = torch.Size([2, 3])\n",
            "Multiplying: torch.Size([3, 2]) @ torch.Size([2, 3]) <- inner dimensions must match\n",
            "Output: \n",
            "\n",
            "tensor([[ 35,  41,  47],\n",
            "        [ 81,  95, 109],\n",
            "        [127, 149, 171]])\n",
            "\n",
            "Output shaper: torch.Size([3, 3])\n"
          ]
        }
      ]
    },
    {
      "cell_type": "markdown",
      "source": [
        "## Tensor Aggregation\n",
        "### Finding the min, max, mean, sum etc"
      ],
      "metadata": {
        "id": "w2F78jW8D22d"
      }
    },
    {
      "cell_type": "code",
      "source": [
        "# Create a tensor\n",
        "x = torch.arange (0, 100, 10)\n",
        "x"
      ],
      "metadata": {
        "id": "bBzVAlrS_u6G",
        "colab": {
          "base_uri": "https://localhost:8080/"
        },
        "outputId": "e0f00e9c-6d34-47ff-a41e-abcea7dc5dff"
      },
      "execution_count": 95,
      "outputs": [
        {
          "output_type": "execute_result",
          "data": {
            "text/plain": [
              "tensor([ 0, 10, 20, 30, 40, 50, 60, 70, 80, 90])"
            ]
          },
          "metadata": {},
          "execution_count": 95
        }
      ]
    },
    {
      "cell_type": "code",
      "source": [
        "# Find the min\n",
        "torch.min(x), x.min()"
      ],
      "metadata": {
        "colab": {
          "base_uri": "https://localhost:8080/"
        },
        "id": "grd4G3DzD0Ye",
        "outputId": "530bfb4e-a7c8-427b-e273-79413ba9dad4"
      },
      "execution_count": 96,
      "outputs": [
        {
          "output_type": "execute_result",
          "data": {
            "text/plain": [
              "(tensor(0), tensor(0))"
            ]
          },
          "metadata": {},
          "execution_count": 96
        }
      ]
    },
    {
      "cell_type": "code",
      "source": [
        "# Find the max\n",
        "torch.max(x), x.max()"
      ],
      "metadata": {
        "colab": {
          "base_uri": "https://localhost:8080/"
        },
        "id": "lDg1StMtD0UB",
        "outputId": "e500214d-7e3f-4978-8fd5-8a03452da307"
      },
      "execution_count": 97,
      "outputs": [
        {
          "output_type": "execute_result",
          "data": {
            "text/plain": [
              "(tensor(90), tensor(90))"
            ]
          },
          "metadata": {},
          "execution_count": 97
        }
      ]
    },
    {
      "cell_type": "code",
      "source": [
        "# Find the mean\n",
        "torch.mean(x.type(torch.float32)), x.type(torch.float32).mean()\n",
        " # WE needed to change datatype here because mean does not work on Long datatype.\n",
        " # It can only work on a tensor of floating point or a complex datatype."
      ],
      "metadata": {
        "colab": {
          "base_uri": "https://localhost:8080/"
        },
        "id": "8B0MjTIOD0QD",
        "outputId": "6f7ec5ac-6a70-4675-9558-c6f771d36426"
      },
      "execution_count": 98,
      "outputs": [
        {
          "output_type": "execute_result",
          "data": {
            "text/plain": [
              "(tensor(45.), tensor(45.))"
            ]
          },
          "metadata": {},
          "execution_count": 98
        }
      ]
    },
    {
      "cell_type": "code",
      "source": [
        "# Find the sum\n",
        "torch.sum(x), x.sum()"
      ],
      "metadata": {
        "colab": {
          "base_uri": "https://localhost:8080/"
        },
        "id": "eogGEObIE8Nm",
        "outputId": "750c46c3-33d2-4e52-cdf3-0c5553652c12"
      },
      "execution_count": 99,
      "outputs": [
        {
          "output_type": "execute_result",
          "data": {
            "text/plain": [
              "(tensor(450), tensor(450))"
            ]
          },
          "metadata": {},
          "execution_count": 99
        }
      ]
    },
    {
      "cell_type": "markdown",
      "source": [
        "## Finding the positional mean and max"
      ],
      "metadata": {
        "id": "EUBQAq2EHOyw"
      }
    },
    {
      "cell_type": "code",
      "source": [
        "x"
      ],
      "metadata": {
        "colab": {
          "base_uri": "https://localhost:8080/"
        },
        "id": "_UjwA0BWGu9l",
        "outputId": "de275f6d-d26c-4b55-ddd9-41a9baefcc3f"
      },
      "execution_count": 100,
      "outputs": [
        {
          "output_type": "execute_result",
          "data": {
            "text/plain": [
              "tensor([ 0, 10, 20, 30, 40, 50, 60, 70, 80, 90])"
            ]
          },
          "metadata": {},
          "execution_count": 100
        }
      ]
    },
    {
      "cell_type": "code",
      "source": [
        "x.argmin()"
      ],
      "metadata": {
        "colab": {
          "base_uri": "https://localhost:8080/"
        },
        "id": "xl7EHsbhHGyH",
        "outputId": "e9a28d4c-9978-448a-cd3c-b6cb06abe2e2"
      },
      "execution_count": 101,
      "outputs": [
        {
          "output_type": "execute_result",
          "data": {
            "text/plain": [
              "tensor(0)"
            ]
          },
          "metadata": {},
          "execution_count": 101
        }
      ]
    },
    {
      "cell_type": "code",
      "source": [
        "x[0]"
      ],
      "metadata": {
        "colab": {
          "base_uri": "https://localhost:8080/"
        },
        "id": "Dx7-MjVyHdYo",
        "outputId": "402cec36-dd10-4550-bdd0-bcaef66d7d79"
      },
      "execution_count": 102,
      "outputs": [
        {
          "output_type": "execute_result",
          "data": {
            "text/plain": [
              "tensor(0)"
            ]
          },
          "metadata": {},
          "execution_count": 102
        }
      ]
    },
    {
      "cell_type": "code",
      "source": [
        "# Find the position in tensorthat has the minimum value with argmin() -> returns index position of target tensor where the minimum value occurs.\n",
        "x = torch.arange(1, 100, 10)\n",
        "x"
      ],
      "metadata": {
        "colab": {
          "base_uri": "https://localhost:8080/"
        },
        "id": "1uTTtL-8HgTa",
        "outputId": "61a38ecd-e3c5-4e7e-f22a-10c9f57bd4d3"
      },
      "execution_count": 103,
      "outputs": [
        {
          "output_type": "execute_result",
          "data": {
            "text/plain": [
              "tensor([ 1, 11, 21, 31, 41, 51, 61, 71, 81, 91])"
            ]
          },
          "metadata": {},
          "execution_count": 103
        }
      ]
    },
    {
      "cell_type": "code",
      "source": [
        "x.argmin()"
      ],
      "metadata": {
        "colab": {
          "base_uri": "https://localhost:8080/"
        },
        "id": "7SYYsbIdIBhA",
        "outputId": "772419bb-85b7-443c-c14c-92452aca4333"
      },
      "execution_count": 104,
      "outputs": [
        {
          "output_type": "execute_result",
          "data": {
            "text/plain": [
              "tensor(0)"
            ]
          },
          "metadata": {},
          "execution_count": 104
        }
      ]
    },
    {
      "cell_type": "code",
      "source": [
        "x[0]"
      ],
      "metadata": {
        "colab": {
          "base_uri": "https://localhost:8080/"
        },
        "id": "3Pdp09HxIOys",
        "outputId": "f7674df3-676d-4d1d-d486-3468fe0102a3"
      },
      "execution_count": 105,
      "outputs": [
        {
          "output_type": "execute_result",
          "data": {
            "text/plain": [
              "tensor(1)"
            ]
          },
          "metadata": {},
          "execution_count": 105
        }
      ]
    },
    {
      "cell_type": "code",
      "source": [
        "# Max value in tensor using argmax\n",
        "x.argmax()"
      ],
      "metadata": {
        "colab": {
          "base_uri": "https://localhost:8080/"
        },
        "id": "tXLOn-vcIaI6",
        "outputId": "813e5899-c404-4ade-b32d-b12dd3106073"
      },
      "execution_count": 106,
      "outputs": [
        {
          "output_type": "execute_result",
          "data": {
            "text/plain": [
              "tensor(9)"
            ]
          },
          "metadata": {},
          "execution_count": 106
        }
      ]
    },
    {
      "cell_type": "code",
      "source": [
        "y = torch.arange(-100, 1, 10)\n",
        "y"
      ],
      "metadata": {
        "colab": {
          "base_uri": "https://localhost:8080/"
        },
        "id": "HAFPufKKIjV2",
        "outputId": "f0364bf0-8d05-4eb6-c96c-e70300d9b225"
      },
      "execution_count": 107,
      "outputs": [
        {
          "output_type": "execute_result",
          "data": {
            "text/plain": [
              "tensor([-100,  -90,  -80,  -70,  -60,  -50,  -40,  -30,  -20,  -10,    0])"
            ]
          },
          "metadata": {},
          "execution_count": 107
        }
      ]
    },
    {
      "cell_type": "code",
      "source": [
        "y.argmin()"
      ],
      "metadata": {
        "colab": {
          "base_uri": "https://localhost:8080/"
        },
        "id": "c3ZWB662I3cg",
        "outputId": "020ef182-e3f4-4212-cb55-05b3b2cd8a29"
      },
      "execution_count": 108,
      "outputs": [
        {
          "output_type": "execute_result",
          "data": {
            "text/plain": [
              "tensor(0)"
            ]
          },
          "metadata": {},
          "execution_count": 108
        }
      ]
    },
    {
      "cell_type": "code",
      "source": [
        "y[0]"
      ],
      "metadata": {
        "colab": {
          "base_uri": "https://localhost:8080/"
        },
        "id": "cFYgRjG-JUPo",
        "outputId": "f453b4ea-1bb2-48fd-873e-135512bba223"
      },
      "execution_count": 109,
      "outputs": [
        {
          "output_type": "execute_result",
          "data": {
            "text/plain": [
              "tensor(-100)"
            ]
          },
          "metadata": {},
          "execution_count": 109
        }
      ]
    },
    {
      "cell_type": "code",
      "source": [
        "y.argmax()"
      ],
      "metadata": {
        "colab": {
          "base_uri": "https://localhost:8080/"
        },
        "id": "QBabYvAXJV_V",
        "outputId": "c8ef2953-2fa5-418c-e0c0-28bbc3e998ed"
      },
      "execution_count": 110,
      "outputs": [
        {
          "output_type": "execute_result",
          "data": {
            "text/plain": [
              "tensor(10)"
            ]
          },
          "metadata": {},
          "execution_count": 110
        }
      ]
    },
    {
      "cell_type": "code",
      "source": [
        "y[9]"
      ],
      "metadata": {
        "colab": {
          "base_uri": "https://localhost:8080/"
        },
        "id": "bIUcbJhIJgf0",
        "outputId": "86981ac2-bef9-4ab7-a400-96db0fd19faf"
      },
      "execution_count": 111,
      "outputs": [
        {
          "output_type": "execute_result",
          "data": {
            "text/plain": [
              "tensor(-10)"
            ]
          },
          "metadata": {},
          "execution_count": 111
        }
      ]
    },
    {
      "cell_type": "markdown",
      "source": [
        "## Reshaping, stacking, squeezing and unsqueezing tensors\n",
        "* Reshaping - Reshapes an input tensor to a defined shape.\n",
        "* View - Return a view of an input tensor of certain shape but keep the same memory as the original tensor.\n",
        "* Stacking - combine multiple tensors on top of each other (vstack) or side by side (hstack).\n",
        "* Squeeze - Removes all `1` dimensions from a tensor.\n",
        "* Unsqueeze - Add a `1` dimension to a target tensor. * Permute - Return a view of the input with dimensions permuted (swapped) in a certain way."
      ],
      "metadata": {
        "id": "RqOtWlaGKDQN"
      }
    },
    {
      "cell_type": "code",
      "source": [
        " import torch\n",
        " x = torch.arange(1., 10.)\n",
        " x, x.shape"
      ],
      "metadata": {
        "colab": {
          "base_uri": "https://localhost:8080/"
        },
        "id": "rjQCDGteJh9Q",
        "outputId": "4c4cfa90-bd57-4f0e-deaa-89716c1fc370"
      },
      "execution_count": 112,
      "outputs": [
        {
          "output_type": "execute_result",
          "data": {
            "text/plain": [
              "(tensor([1., 2., 3., 4., 5., 6., 7., 8., 9.]), torch.Size([9]))"
            ]
          },
          "metadata": {},
          "execution_count": 112
        }
      ]
    },
    {
      "cell_type": "code",
      "source": [
        "# Add an extra dimension\n",
        "x_reshape = x.reshape(1, 9)\n",
        "x_reshape, x_reshape.shape"
      ],
      "metadata": {
        "id": "dxvUYbkrL3dW",
        "colab": {
          "base_uri": "https://localhost:8080/"
        },
        "outputId": "e7514c94-f46a-41b9-bf67-f0c5cc2abdb6"
      },
      "execution_count": 113,
      "outputs": [
        {
          "output_type": "execute_result",
          "data": {
            "text/plain": [
              "(tensor([[1., 2., 3., 4., 5., 6., 7., 8., 9.]]), torch.Size([1, 9]))"
            ]
          },
          "metadata": {},
          "execution_count": 113
        }
      ]
    },
    {
      "cell_type": "code",
      "source": [
        "x_reshape = x.reshape(9, 1)\n",
        "x_reshape, x_reshape.shape"
      ],
      "metadata": {
        "colab": {
          "base_uri": "https://localhost:8080/"
        },
        "id": "keSnoR9yMiev",
        "outputId": "817567d7-dac9-4a44-a91f-dd43f6a0a1f5"
      },
      "execution_count": 114,
      "outputs": [
        {
          "output_type": "execute_result",
          "data": {
            "text/plain": [
              "(tensor([[1.],\n",
              "         [2.],\n",
              "         [3.],\n",
              "         [4.],\n",
              "         [5.],\n",
              "         [6.],\n",
              "         [7.],\n",
              "         [8.],\n",
              "         [9.]]),\n",
              " torch.Size([9, 1]))"
            ]
          },
          "metadata": {},
          "execution_count": 114
        }
      ]
    },
    {
      "cell_type": "code",
      "source": [
        "x_reshape = x.reshape(1, 9)\n",
        "x_reshape"
      ],
      "metadata": {
        "colab": {
          "base_uri": "https://localhost:8080/"
        },
        "id": "ku4vMjN2XNUM",
        "outputId": "04e54afa-3cfc-484c-b36a-e125f7e179c8"
      },
      "execution_count": 115,
      "outputs": [
        {
          "output_type": "execute_result",
          "data": {
            "text/plain": [
              "tensor([[1., 2., 3., 4., 5., 6., 7., 8., 9.]])"
            ]
          },
          "metadata": {},
          "execution_count": 115
        }
      ]
    },
    {
      "cell_type": "code",
      "source": [
        " y = torch.arange(1., 13.)\n",
        " y, y.shape"
      ],
      "metadata": {
        "colab": {
          "base_uri": "https://localhost:8080/"
        },
        "id": "uKSkt50yNQVq",
        "outputId": "39928d31-62ac-464b-e2e3-4d9f8685e0bd"
      },
      "execution_count": 116,
      "outputs": [
        {
          "output_type": "execute_result",
          "data": {
            "text/plain": [
              "(tensor([ 1.,  2.,  3.,  4.,  5.,  6.,  7.,  8.,  9., 10., 11., 12.]),\n",
              " torch.Size([12]))"
            ]
          },
          "metadata": {},
          "execution_count": 116
        }
      ]
    },
    {
      "cell_type": "code",
      "source": [
        "y_reshape = y.reshape(3,4)\n",
        "y_reshape, y_reshape.shape"
      ],
      "metadata": {
        "colab": {
          "base_uri": "https://localhost:8080/"
        },
        "id": "tFFuAWS7NUhF",
        "outputId": "13f34224-835c-4c25-a870-ad98a638d82e"
      },
      "execution_count": 117,
      "outputs": [
        {
          "output_type": "execute_result",
          "data": {
            "text/plain": [
              "(tensor([[ 1.,  2.,  3.,  4.],\n",
              "         [ 5.,  6.,  7.,  8.],\n",
              "         [ 9., 10., 11., 12.]]),\n",
              " torch.Size([3, 4]))"
            ]
          },
          "metadata": {},
          "execution_count": 117
        }
      ]
    },
    {
      "cell_type": "code",
      "source": [
        "# Change the view\n",
        "z = y.view(1,12)\n",
        "z, z.shape"
      ],
      "metadata": {
        "colab": {
          "base_uri": "https://localhost:8080/"
        },
        "id": "iw70Zi4cM7PO",
        "outputId": "46d0ef60-84af-41e6-e002-9d25fc2061c8"
      },
      "execution_count": 118,
      "outputs": [
        {
          "output_type": "execute_result",
          "data": {
            "text/plain": [
              "(tensor([[ 1.,  2.,  3.,  4.,  5.,  6.,  7.,  8.,  9., 10., 11., 12.]]),\n",
              " torch.Size([1, 12]))"
            ]
          },
          "metadata": {},
          "execution_count": 118
        }
      ]
    },
    {
      "cell_type": "code",
      "source": [
        "z= y.view(12,1)\n",
        "z, z.shape"
      ],
      "metadata": {
        "colab": {
          "base_uri": "https://localhost:8080/"
        },
        "id": "-4bqsgmIPEoY",
        "outputId": "d9cdceb5-e4ec-41e5-c8f2-39f7090a8a3a"
      },
      "execution_count": 119,
      "outputs": [
        {
          "output_type": "execute_result",
          "data": {
            "text/plain": [
              "(tensor([[ 1.],\n",
              "         [ 2.],\n",
              "         [ 3.],\n",
              "         [ 4.],\n",
              "         [ 5.],\n",
              "         [ 6.],\n",
              "         [ 7.],\n",
              "         [ 8.],\n",
              "         [ 9.],\n",
              "         [10.],\n",
              "         [11.],\n",
              "         [12.]]),\n",
              " torch.Size([12, 1]))"
            ]
          },
          "metadata": {},
          "execution_count": 119
        }
      ]
    },
    {
      "cell_type": "code",
      "source": [
        "# Changing z changes y because the view of the tensor is the same memory as the original input\n",
        "z[:, 0] = 6\n",
        "z, y"
      ],
      "metadata": {
        "colab": {
          "base_uri": "https://localhost:8080/"
        },
        "id": "iCSbPkofPNPX",
        "outputId": "247d1f16-efb4-4d1f-fd77-c6137404452f"
      },
      "execution_count": 120,
      "outputs": [
        {
          "output_type": "execute_result",
          "data": {
            "text/plain": [
              "(tensor([[6.],\n",
              "         [6.],\n",
              "         [6.],\n",
              "         [6.],\n",
              "         [6.],\n",
              "         [6.],\n",
              "         [6.],\n",
              "         [6.],\n",
              "         [6.],\n",
              "         [6.],\n",
              "         [6.],\n",
              "         [6.]]),\n",
              " tensor([6., 6., 6., 6., 6., 6., 6., 6., 6., 6., 6., 6.]))"
            ]
          },
          "metadata": {},
          "execution_count": 120
        }
      ]
    },
    {
      "cell_type": "code",
      "source": [
        "z = y.view(3,4)\n",
        "z"
      ],
      "metadata": {
        "colab": {
          "base_uri": "https://localhost:8080/"
        },
        "id": "SUlMap9RPpgU",
        "outputId": "56d9fbf9-2791-4426-ae2d-b683c46a44d4"
      },
      "execution_count": 121,
      "outputs": [
        {
          "output_type": "execute_result",
          "data": {
            "text/plain": [
              "tensor([[6., 6., 6., 6.],\n",
              "        [6., 6., 6., 6.],\n",
              "        [6., 6., 6., 6.]])"
            ]
          },
          "metadata": {},
          "execution_count": 121
        }
      ]
    },
    {
      "cell_type": "code",
      "source": [
        " y = torch.arange(1., 13.)\n",
        " y, y.shape"
      ],
      "metadata": {
        "colab": {
          "base_uri": "https://localhost:8080/"
        },
        "id": "XYmdXqNMRlb4",
        "outputId": "c8beba91-6e3a-43da-f528-78c83c28e1ce"
      },
      "execution_count": 122,
      "outputs": [
        {
          "output_type": "execute_result",
          "data": {
            "text/plain": [
              "(tensor([ 1.,  2.,  3.,  4.,  5.,  6.,  7.,  8.,  9., 10., 11., 12.]),\n",
              " torch.Size([12]))"
            ]
          },
          "metadata": {},
          "execution_count": 122
        }
      ]
    },
    {
      "cell_type": "code",
      "source": [
        "z = y.view(1, 12)\n",
        "z"
      ],
      "metadata": {
        "colab": {
          "base_uri": "https://localhost:8080/"
        },
        "id": "DIAAHfJxRvrt",
        "outputId": "ef33249c-b90d-4320-f237-a8c43cce6b24"
      },
      "execution_count": 123,
      "outputs": [
        {
          "output_type": "execute_result",
          "data": {
            "text/plain": [
              "tensor([[ 1.,  2.,  3.,  4.,  5.,  6.,  7.,  8.,  9., 10., 11., 12.]])"
            ]
          },
          "metadata": {},
          "execution_count": 123
        }
      ]
    },
    {
      "cell_type": "code",
      "source": [
        "z [:, 0] = 6\n",
        "z, y"
      ],
      "metadata": {
        "colab": {
          "base_uri": "https://localhost:8080/"
        },
        "id": "XWumfaJUR-hQ",
        "outputId": "b492a5d1-cee6-4d55-ad85-09e8e0012bb7"
      },
      "execution_count": 124,
      "outputs": [
        {
          "output_type": "execute_result",
          "data": {
            "text/plain": [
              "(tensor([[ 6.,  2.,  3.,  4.,  5.,  6.,  7.,  8.,  9., 10., 11., 12.]]),\n",
              " tensor([ 6.,  2.,  3.,  4.,  5.,  6.,  7.,  8.,  9., 10., 11., 12.]))"
            ]
          },
          "metadata": {},
          "execution_count": 124
        }
      ]
    },
    {
      "cell_type": "code",
      "source": [
        "## Stack tensors on top of each other\n",
        "x_stacked = torch.stack([y, y, y, y], dim = 0) # We can't use other dimensions here because origial tensor is not compatiblr\n",
        "x_stacked"
      ],
      "metadata": {
        "colab": {
          "base_uri": "https://localhost:8080/"
        },
        "id": "sS6MKST3SGaw",
        "outputId": "25a3734c-0956-496b-8177-03958188ce6c"
      },
      "execution_count": 125,
      "outputs": [
        {
          "output_type": "execute_result",
          "data": {
            "text/plain": [
              "tensor([[ 6.,  2.,  3.,  4.,  5.,  6.,  7.,  8.,  9., 10., 11., 12.],\n",
              "        [ 6.,  2.,  3.,  4.,  5.,  6.,  7.,  8.,  9., 10., 11., 12.],\n",
              "        [ 6.,  2.,  3.,  4.,  5.,  6.,  7.,  8.,  9., 10., 11., 12.],\n",
              "        [ 6.,  2.,  3.,  4.,  5.,  6.,  7.,  8.,  9., 10., 11., 12.]])"
            ]
          },
          "metadata": {},
          "execution_count": 125
        }
      ]
    },
    {
      "cell_type": "code",
      "source": [
        "# But we can use 1\n",
        "y_stacked = torch.stack([y, y, y, y, y, y], dim=1)\n",
        "y_stacked"
      ],
      "metadata": {
        "colab": {
          "base_uri": "https://localhost:8080/"
        },
        "id": "T5mx0PdtSdxp",
        "outputId": "b7c21037-c20d-49d6-a8b6-d1068c22a7e0"
      },
      "execution_count": 126,
      "outputs": [
        {
          "output_type": "execute_result",
          "data": {
            "text/plain": [
              "tensor([[ 6.,  6.,  6.,  6.,  6.,  6.],\n",
              "        [ 2.,  2.,  2.,  2.,  2.,  2.],\n",
              "        [ 3.,  3.,  3.,  3.,  3.,  3.],\n",
              "        [ 4.,  4.,  4.,  4.,  4.,  4.],\n",
              "        [ 5.,  5.,  5.,  5.,  5.,  5.],\n",
              "        [ 6.,  6.,  6.,  6.,  6.,  6.],\n",
              "        [ 7.,  7.,  7.,  7.,  7.,  7.],\n",
              "        [ 8.,  8.,  8.,  8.,  8.,  8.],\n",
              "        [ 9.,  9.,  9.,  9.,  9.,  9.],\n",
              "        [10., 10., 10., 10., 10., 10.],\n",
              "        [11., 11., 11., 11., 11., 11.],\n",
              "        [12., 12., 12., 12., 12., 12.]])"
            ]
          },
          "metadata": {},
          "execution_count": 126
        }
      ]
    },
    {
      "cell_type": "markdown",
      "source": [
        "## Squeez and Unsqueez"
      ],
      "metadata": {
        "id": "k7b-jcjETgzJ"
      }
    },
    {
      "cell_type": "code",
      "source": [
        "x = torch.zeros(2,1, 2, 1, 2)\n",
        "x.size()"
      ],
      "metadata": {
        "colab": {
          "base_uri": "https://localhost:8080/"
        },
        "id": "2DuiRZtmTPrE",
        "outputId": "a873cd24-93d1-44ea-eb23-4cfbbe7d90b4"
      },
      "execution_count": 127,
      "outputs": [
        {
          "output_type": "execute_result",
          "data": {
            "text/plain": [
              "torch.Size([2, 1, 2, 1, 2])"
            ]
          },
          "metadata": {},
          "execution_count": 127
        }
      ]
    },
    {
      "cell_type": "code",
      "source": [
        "y = torch.squeeze(x) # squeez removes all 1 dimensions\n",
        "y.size()"
      ],
      "metadata": {
        "colab": {
          "base_uri": "https://localhost:8080/"
        },
        "id": "qFNqZ0WnT0zu",
        "outputId": "c13bf145-5d9b-4fab-f0c4-95a3c9fb3601"
      },
      "execution_count": 128,
      "outputs": [
        {
          "output_type": "execute_result",
          "data": {
            "text/plain": [
              "torch.Size([2, 2, 2])"
            ]
          },
          "metadata": {},
          "execution_count": 128
        }
      ]
    },
    {
      "cell_type": "code",
      "source": [
        "y = torch.squeeze(x, 0) # remov\n",
        "y.size()"
      ],
      "metadata": {
        "colab": {
          "base_uri": "https://localhost:8080/"
        },
        "id": "4iIKI7iOT8Th",
        "outputId": "501d2f07-e1c1-4c5b-d37c-42390e7e9440"
      },
      "execution_count": 129,
      "outputs": [
        {
          "output_type": "execute_result",
          "data": {
            "text/plain": [
              "torch.Size([2, 1, 2, 1, 2])"
            ]
          },
          "metadata": {},
          "execution_count": 129
        }
      ]
    },
    {
      "cell_type": "code",
      "source": [
        "y = torch.squeeze(x, 1)\n",
        "y.size()"
      ],
      "metadata": {
        "colab": {
          "base_uri": "https://localhost:8080/"
        },
        "id": "M6TL8dcoUHZP",
        "outputId": "22deb361-42a0-49ee-9919-8127fc0992af"
      },
      "execution_count": 130,
      "outputs": [
        {
          "output_type": "execute_result",
          "data": {
            "text/plain": [
              "torch.Size([2, 2, 1, 2])"
            ]
          },
          "metadata": {},
          "execution_count": 130
        }
      ]
    },
    {
      "cell_type": "code",
      "source": [
        "# torch.squeeze() - removes all single dimensions from a target tensor\n",
        "print(f\"Previous Tensor:{x_reshape}\")\n",
        "print(f\"Previous Shape:{x_reshape.shape}\")\n",
        "\n",
        "#Remove extra Dimensions from x_reshape\n",
        "x_squeezed = x_reshape.squeeze()\n",
        "print(f\"\\nNew Tensor: {x_squeezed}\")\n",
        "print(f\"\\nNew Shape: {x_squeezed.shape}\")"
      ],
      "metadata": {
        "colab": {
          "base_uri": "https://localhost:8080/"
        },
        "id": "zH5CrmYAX1Tw",
        "outputId": "31097b5d-eab7-4c50-cb59-4212057bfaac"
      },
      "execution_count": 131,
      "outputs": [
        {
          "output_type": "stream",
          "name": "stdout",
          "text": [
            "Previous Tensor:tensor([[1., 2., 3., 4., 5., 6., 7., 8., 9.]])\n",
            "Previous Shape:torch.Size([1, 9])\n",
            "\n",
            "New Tensor: tensor([1., 2., 3., 4., 5., 6., 7., 8., 9.])\n",
            "\n",
            "New Shape: torch.Size([9])\n"
          ]
        }
      ]
    },
    {
      "cell_type": "code",
      "source": [
        "x_reshape"
      ],
      "metadata": {
        "id": "5SBAXfpWUN7O",
        "colab": {
          "base_uri": "https://localhost:8080/"
        },
        "outputId": "778dbf25-ea91-48cb-815a-b74adb599d76"
      },
      "execution_count": 132,
      "outputs": [
        {
          "output_type": "execute_result",
          "data": {
            "text/plain": [
              "tensor([[1., 2., 3., 4., 5., 6., 7., 8., 9.]])"
            ]
          },
          "metadata": {},
          "execution_count": 132
        }
      ]
    },
    {
      "cell_type": "code",
      "source": [
        "x_reshape.shape"
      ],
      "metadata": {
        "colab": {
          "base_uri": "https://localhost:8080/"
        },
        "id": "9fldwPC3Wuue",
        "outputId": "a8ea8f5d-a3a0-4780-f979-fcd7b23ecd9f"
      },
      "execution_count": 133,
      "outputs": [
        {
          "output_type": "execute_result",
          "data": {
            "text/plain": [
              "torch.Size([1, 9])"
            ]
          },
          "metadata": {},
          "execution_count": 133
        }
      ]
    },
    {
      "cell_type": "code",
      "source": [
        "x_reshape.squeeze()"
      ],
      "metadata": {
        "colab": {
          "base_uri": "https://localhost:8080/"
        },
        "id": "U3CpiCxsW3jV",
        "outputId": "b3bef2f2-0262-4870-b0b9-7d9119674f62"
      },
      "execution_count": 134,
      "outputs": [
        {
          "output_type": "execute_result",
          "data": {
            "text/plain": [
              "tensor([1., 2., 3., 4., 5., 6., 7., 8., 9.])"
            ]
          },
          "metadata": {},
          "execution_count": 134
        }
      ]
    },
    {
      "cell_type": "code",
      "source": [
        "x_reshape.squeeze().shape"
      ],
      "metadata": {
        "colab": {
          "base_uri": "https://localhost:8080/"
        },
        "id": "Pqoqyob4Xff0",
        "outputId": "946fbc08-c1c6-4a9d-aefa-c50ab3f34f53"
      },
      "execution_count": 135,
      "outputs": [
        {
          "output_type": "execute_result",
          "data": {
            "text/plain": [
              "torch.Size([9])"
            ]
          },
          "metadata": {},
          "execution_count": 135
        }
      ]
    },
    {
      "cell_type": "code",
      "source": [
        "# torch.unsqueeze() - adds a single dimensions to a target tensor\n",
        "print(f\"Previous Tensor:{x_squeezed}\")\n",
        "print(f\"Previous Shape:{x_squeezed.shape}\")\n",
        "\n",
        "#Remove extra Dimensions from x_reshape\n",
        "x_unsqueezed = x_squeezed.unsqueeze(dim=0)\n",
        "print(f\"\\nNew Tensor: {x_unsqueezed}\")\n",
        "print(f\"\\nNew Shape: {x_unsqueezed.shape}\")"
      ],
      "metadata": {
        "colab": {
          "base_uri": "https://localhost:8080/"
        },
        "id": "-8Saljc2Xlyo",
        "outputId": "ee69f402-5694-47f9-e056-ee3ed4946f2b"
      },
      "execution_count": 136,
      "outputs": [
        {
          "output_type": "stream",
          "name": "stdout",
          "text": [
            "Previous Tensor:tensor([1., 2., 3., 4., 5., 6., 7., 8., 9.])\n",
            "Previous Shape:torch.Size([9])\n",
            "\n",
            "New Tensor: tensor([[1., 2., 3., 4., 5., 6., 7., 8., 9.]])\n",
            "\n",
            "New Shape: torch.Size([1, 9])\n"
          ]
        }
      ]
    },
    {
      "cell_type": "code",
      "source": [
        "# torch.unsqueeze() - adds a single dimensions to a target tensor\n",
        "print(f\"Previous Tensor:{x_unsqueezed}\")\n",
        "print(f\"Previous Shape:{x_unsqueezed.shape}\")\n",
        "\n",
        "#Remove extra Dimensions from x_reshape\n",
        "x_unsqueezed2 = x_unsqueezed.unsqueeze(dim=1)\n",
        "print(f\"\\nNew Tensor: {x_unsqueezed2}\")\n",
        "print(f\"\\nNew Shape: {x_unsqueezed2.shape}\")"
      ],
      "metadata": {
        "colab": {
          "base_uri": "https://localhost:8080/"
        },
        "id": "0UMHFV79Zrzt",
        "outputId": "528e4ade-e8e4-41fb-b69c-82e222c930fc"
      },
      "execution_count": 137,
      "outputs": [
        {
          "output_type": "stream",
          "name": "stdout",
          "text": [
            "Previous Tensor:tensor([[1., 2., 3., 4., 5., 6., 7., 8., 9.]])\n",
            "Previous Shape:torch.Size([1, 9])\n",
            "\n",
            "New Tensor: tensor([[[1., 2., 3., 4., 5., 6., 7., 8., 9.]]])\n",
            "\n",
            "New Shape: torch.Size([1, 1, 9])\n"
          ]
        }
      ]
    },
    {
      "cell_type": "code",
      "source": [
        "# torch.permute - rearrange the dimensons of a target tensor in a specific order\n",
        "x = torch.randn(2, 3, 6)\n",
        "x.size()\n"
      ],
      "metadata": {
        "colab": {
          "base_uri": "https://localhost:8080/"
        },
        "id": "nJ0MZu9PZ_Y7",
        "outputId": "b4eb4dcf-ba0f-4a6c-fbaf-f19e7e61caf5"
      },
      "execution_count": 138,
      "outputs": [
        {
          "output_type": "execute_result",
          "data": {
            "text/plain": [
              "torch.Size([2, 3, 6])"
            ]
          },
          "metadata": {},
          "execution_count": 138
        }
      ]
    },
    {
      "cell_type": "code",
      "source": [
        "torch.permute(x, (2, 0, 1)).size()"
      ],
      "metadata": {
        "colab": {
          "base_uri": "https://localhost:8080/"
        },
        "id": "qAE5svhKayKN",
        "outputId": "202e1fd0-eb13-4c40-aa3a-4fa44f1283df"
      },
      "execution_count": 139,
      "outputs": [
        {
          "output_type": "execute_result",
          "data": {
            "text/plain": [
              "torch.Size([6, 2, 3])"
            ]
          },
          "metadata": {},
          "execution_count": 139
        }
      ]
    },
    {
      "cell_type": "code",
      "source": [
        "x_original = torch.rand(size=(224, 224, 3)) # height, width, colour_channels\n",
        "\n",
        "# Permute the original tensor to rearrange the axis (or dim) order\n",
        "x_permuted = x_original.permute(2, 0, 1) # shifts axis 0->1, 1->2, 2->0\n",
        "\n",
        "print(f\"Previous Shape: {x_original.shape}\")\n",
        "print(f\"New Shape: {x_permuted.shape}\") # colour_channels, height, width"
      ],
      "metadata": {
        "colab": {
          "base_uri": "https://localhost:8080/"
        },
        "id": "6i2ETdJra4uf",
        "outputId": "9ce95d74-02a6-40df-f331-a7c0a3ce8960"
      },
      "execution_count": 140,
      "outputs": [
        {
          "output_type": "stream",
          "name": "stdout",
          "text": [
            "Previous Shape: torch.Size([224, 224, 3])\n",
            "New Shape: torch.Size([3, 224, 224])\n"
          ]
        }
      ]
    },
    {
      "cell_type": "code",
      "source": [],
      "metadata": {
        "id": "nKMfSs9jbpY9"
      },
      "execution_count": 140,
      "outputs": []
    }
  ]
}
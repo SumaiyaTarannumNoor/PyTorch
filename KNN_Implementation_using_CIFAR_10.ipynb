{
  "nbformat": 4,
  "nbformat_minor": 0,
  "metadata": {
    "colab": {
      "provenance": []
    },
    "kernelspec": {
      "name": "python3",
      "display_name": "Python 3"
    },
    "language_info": {
      "name": "python"
    }
  },
  "cells": [
    {
      "cell_type": "code",
      "execution_count": 44,
      "metadata": {
        "colab": {
          "base_uri": "https://localhost:8080/"
        },
        "id": "bGyLLWh6etiD",
        "outputId": "2c98e2a2-fd55-4e5e-d02c-5f3c7a4ecb50"
      },
      "outputs": [
        {
          "output_type": "stream",
          "name": "stdout",
          "text": [
            "Requirement already satisfied: scikit-learn in /usr/local/lib/python3.12/dist-packages (1.7.2)\n",
            "Requirement already satisfied: numpy>=1.22.0 in /usr/local/lib/python3.12/dist-packages (from scikit-learn) (2.0.2)\n",
            "Requirement already satisfied: scipy>=1.8.0 in /usr/local/lib/python3.12/dist-packages (from scikit-learn) (1.16.2)\n",
            "Requirement already satisfied: joblib>=1.2.0 in /usr/local/lib/python3.12/dist-packages (from scikit-learn) (1.5.2)\n",
            "Requirement already satisfied: threadpoolctl>=3.1.0 in /usr/local/lib/python3.12/dist-packages (from scikit-learn) (3.6.0)\n"
          ]
        }
      ],
      "source": [
        "import torch\n",
        "import torchvision\n",
        "import torchvision.transforms as transforms\n",
        "import numpy as np\n",
        "!pip install --upgrade scikit-learn\n",
        "from sklearn.model_selection import train_test_split\n",
        "from sklearn.metrics import accuracy_score, classification_report, confusion_matrix\n",
        "import matplotlib.pyplot as plt\n",
        "from tqdm import tqdm"
      ]
    },
    {
      "cell_type": "code",
      "source": [
        "device = torch.device(\"cuda\" if torch.cuda.is_available() else 'cpu')\n",
        "print(f\"Using device: {device}\")"
      ],
      "metadata": {
        "colab": {
          "base_uri": "https://localhost:8080/"
        },
        "id": "iQCGoqvvgzTt",
        "outputId": "0dc311c3-f0c3-4800-ef15-6db76a3b9f15"
      },
      "execution_count": 45,
      "outputs": [
        {
          "output_type": "stream",
          "name": "stdout",
          "text": [
            "Using device: cpu\n"
          ]
        }
      ]
    },
    {
      "cell_type": "code",
      "source": [
        "transform = transforms.Compose([\n",
        "    transforms.ToTensor(),\n",
        "    transforms.Normalize((0.6, 0.6, 0.6), (0.6, 0.6, 0.6))\n",
        "])"
      ],
      "metadata": {
        "id": "GwUZeuYjhCnU"
      },
      "execution_count": 46,
      "outputs": []
    },
    {
      "cell_type": "code",
      "source": [
        "full_dataset = torchvision.datasets.CIFAR10(root='./data', train = True, download = True, transform = transform)\n",
        "test_dataset_full = torchvision.datasets.CIFAR10(root='./data', train = False, download = True, transform = transform)"
      ],
      "metadata": {
        "id": "ZMXJAv2mht-T"
      },
      "execution_count": 47,
      "outputs": []
    },
    {
      "cell_type": "code",
      "source": [
        "def get_subset(dataset, num_samples_per_class=600):\n",
        "  indices = []\n",
        "  targets = dataset.targets if hasattr(dataset, 'targets') else dataset.train_labels\n",
        "  for class_idx in range(10):\n",
        "    class_indicies = [i for i, label in enumerate(targets) if label == class_idx]\n",
        "    indices.extend(class_indicies[:num_samples_per_class])\n",
        "  return torch.utils.data.Subset(dataset, indices)\n",
        "\n",
        "train_dataset = get_subset(full_dataset, 800)\n",
        "test_dataset = get_subset(test_dataset_full, 200)\n",
        "\n",
        "train_indices, val_indices = train_test_split(\n",
        "    list(range(len(train_dataset))),\n",
        "    test_size = 0.2,\n",
        "    stratify = [train_dataset.dataset.targets[i] for i in train_dataset.indices],\n",
        "    random_state = 42\n",
        ")\n",
        "\n",
        "train_subset = torch.utils.data.Subset(train_dataset, train_indices)\n",
        "val_subset = torch.utils.data.Subset(train_dataset, val_indices)\n",
        "\n",
        "batch_size = 100\n",
        "train_loader = torch.utils.data.DataLoader(train_subset, batch_size = batch_size, shuffle = True)\n",
        "val_loader = torch.utils.data.DataLoader(val_subset, batch_size = batch_size, shuffle = True)\n",
        "test_loader = torch.utils.data.DataLoader(test_dataset, batch_size = batch_size, shuffle = True)\n",
        "\n",
        "classes = ('plane', 'car', 'bird', 'cat', 'deer', 'dog', 'frog', 'horse', 'ship', 'truck')"
      ],
      "metadata": {
        "id": "3Esf-CpiiTwA"
      },
      "execution_count": 48,
      "outputs": []
    },
    {
      "cell_type": "code",
      "source": [
        "class KNN:\n",
        "  def __init__(self, k):\n",
        "    self.k = k\n",
        "    self.x_train = None\n",
        "    self.y_train = None\n",
        "\n",
        "  def fit(self, dataloader):\n",
        "    images, labels = [], []\n",
        "    for img, label in tqdm(dataloader, desc=\"Loading Training Data\"):\n",
        "      images.append(img.view(img.size(0), -1).to(device))\n",
        "      labels.append(label.to(device))\n",
        "    self.x_train = torch.cat(images, dim=0)\n",
        "    self.y_train = torch.cat(labels, dim=0)\n",
        "\n",
        "\n",
        "  def predict(self, dataloader):\n",
        "    predictions, true_labels = [], []\n",
        "    for img, label in tqdm(dataloader, desc=\"Predicting...\"):\n",
        "      x = img.view(img.size(0), -1).to(device)\n",
        "      dists = torch.cdist(x, self.x_train)\n",
        "      _, indicies = torch.topk(dists, self.k, largest=False, dim=1)\n",
        "      y_pred = torch.mode(self.y_train[indicies], dim = 1)[0]\n",
        "      predictions.append(y_pred.cpu())\n",
        "      true_labels.append(label)\n",
        "    return torch.cat(predictions), torch.cat(true_labels)\n",
        "\n",
        "\n",
        "  def evaluate(self, dataloader):\n",
        "    y_pred, y_true = self.predict(dataloader)\n",
        "    accuracy = accuracy_score(y_true.cpu(), y_pred.cpu())\n",
        "    report = classification_report(y_true.cpu(), y_pred.cpu(), target_names= classes)\n",
        "    cm = confusion_matrix(y_true.cpu(), y_pred.cpu())\n",
        "    return accuracy, report, cm"
      ],
      "metadata": {
        "id": "78UvRDaRlIND"
      },
      "execution_count": 49,
      "outputs": []
    },
    {
      "cell_type": "code",
      "source": [
        "def cross_validation(k_values, train_loader, val_loader):\n",
        "  best_k, best_acc = 1, 0\n",
        "  for k in k_values:\n",
        "    knn = KNN(k)\n",
        "    knn.fit(train_loader)\n",
        "    acc, _, _ = knn.evaluate(val_loader)\n",
        "    print(f\"k={k}: Validation Accuracy = {acc:.4f}\")\n",
        "    if acc > best_acc:\n",
        "      best_acc = acc\n",
        "      best_k = k\n",
        "    return best_k\n",
        "\n",
        "\n",
        "# k_values = [1, 3, 5, 7, 9]\n",
        "k_values = [16, 26]\n",
        "best_k = cross_validation(k_values, train_loader, val_loader)\n",
        "print(f\"\\nBest k:{best_k}\")\n",
        "\n"
      ],
      "metadata": {
        "colab": {
          "base_uri": "https://localhost:8080/"
        },
        "id": "AgRba6ZM1L5X",
        "outputId": "38821eb5-e40d-4b2d-cd4e-8dde0d32bf43"
      },
      "execution_count": 50,
      "outputs": [
        {
          "output_type": "stream",
          "name": "stderr",
          "text": [
            "Loading Training Data: 100%|██████████| 64/64 [00:02<00:00, 30.00it/s]\n",
            "Predicting...: 100%|██████████| 16/16 [00:08<00:00,  1.85it/s]"
          ]
        },
        {
          "output_type": "stream",
          "name": "stdout",
          "text": [
            "k=16: Validation Accuracy = 0.2744\n",
            "\n",
            "Best k:16\n"
          ]
        },
        {
          "output_type": "stream",
          "name": "stderr",
          "text": [
            "\n"
          ]
        }
      ]
    },
    {
      "cell_type": "code",
      "source": [
        "best_knn = KNN(k=best_k)\n",
        "best_knn.fit(train_loader)\n",
        "\n",
        "test_accuracy, test_report, test_cm = best_knn.evaluate(test_loader)\n",
        "print(f\"\\nTest Accuracy (k={best_k}): {test_accuracy:.4f}\")\n",
        "print(\"\\nTest Classification Report: \\n\", test_report)\n",
        "\n",
        "\n",
        "plt.figure(figsize=(10, 8))\n",
        "plt.imshow(test_cm, interpolation='nearest', cmap=plt.cm.Blues)\n",
        "plt.title(f\"Test Confusion Matrix (k={best_k})\")\n",
        "plt.colorbar()\n",
        "tick_marks = np.arange(len(classes))\n",
        "plt.xticks(tick_marks, classes, rotation=45)\n",
        "plt.yticks(tick_marks, classes)\n",
        "plt.xlabel(\"Predicted Label\")\n",
        "plt.ylabel(\"True Label\")\n",
        "plt.tight_layout()\n",
        "plt.show()"
      ],
      "metadata": {
        "colab": {
          "base_uri": "https://localhost:8080/",
          "height": 988
        },
        "id": "iOtJ4aenpRaG",
        "outputId": "2f1de60b-0ad6-4f16-eb21-dc372489adac"
      },
      "execution_count": 51,
      "outputs": [
        {
          "output_type": "stream",
          "name": "stderr",
          "text": [
            "Loading Training Data: 100%|██████████| 64/64 [00:02<00:00, 27.88it/s]\n",
            "Predicting...: 100%|██████████| 20/20 [00:05<00:00,  3.71it/s]\n"
          ]
        },
        {
          "output_type": "stream",
          "name": "stdout",
          "text": [
            "\n",
            "Test Accuracy (k=16): 0.2685\n",
            "\n",
            "Test Classification Report: \n",
            "               precision    recall  f1-score   support\n",
            "\n",
            "       plane       0.30      0.47      0.36       200\n",
            "         car       0.59      0.05      0.09       200\n",
            "        bird       0.19      0.39      0.25       200\n",
            "         cat       0.36      0.10      0.16       200\n",
            "        deer       0.18      0.48      0.26       200\n",
            "         dog       0.37      0.12      0.18       200\n",
            "        frog       0.26      0.25      0.26       200\n",
            "       horse       0.52      0.12      0.19       200\n",
            "        ship       0.37      0.61      0.46       200\n",
            "       truck       0.73      0.11      0.19       200\n",
            "\n",
            "    accuracy                           0.27      2000\n",
            "   macro avg       0.39      0.27      0.24      2000\n",
            "weighted avg       0.39      0.27      0.24      2000\n",
            "\n"
          ]
        },
        {
          "output_type": "display_data",
          "data": {
            "text/plain": [
              "<Figure size 1000x800 with 2 Axes>"
            ],
            "image/png": "[encoded data removed]"
          },
          "metadata": {}
        }
      ]
    }
  ]
}